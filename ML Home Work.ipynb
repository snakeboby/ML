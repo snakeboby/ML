{
  "cells": [
    {
      "cell_type": "markdown",
      "source": [
        "#Описание задачи\n",
        "\n",
        "###Цель: Определения рейтинга приложения из датасета Google Play Store.\n",
        "\n",
        "###Тип задачи: Классификация.\n",
        "\n",
        "###Признаки: Могут включать рейтинг, количество отзывов, категорию, размер, цену и пр., где большинство данных категориальные и числовые."
      ],
      "metadata": {
        "id": "zEoOCuk_kimK"
      }
    },
    {
      "cell_type": "code",
      "execution_count": null,
      "metadata": {
        "id": "picKwjM2g3iv"
      },
      "outputs": [],
      "source": [
        "import numpy as np\n",
        "import matplotlib.pyplot as plt\n",
        "import pandas as pd\n",
        "%matplotlib inline"
      ]
    },
    {
      "cell_type": "markdown",
      "metadata": {
        "id": "mPsPW7g6g3iz"
      },
      "source": [
        "Пусть у нас есть датасет с именем приложения и некоторыми его характеристиками:\n",
        "\n",
        "* **App** - наименование приложения\n",
        "\n",
        "* **Category** - категория приложения\n",
        "\n",
        "* **Rating** - рейтинг приложения\n",
        "\n",
        "* **Reviews** - число отзывов\n",
        "\n",
        "* **Size** - размер приложения\n",
        "\n",
        "* **Installs** - число установок приложения\n",
        "\n",
        "* **Type** - платное или бесплатное\n",
        "\n",
        "* **Price** - цена\n",
        "\n",
        "* **Content Rating** - возрастное ограничение\n",
        "\n",
        "* **Genres** - жанр приложения, дублирует категорию\n",
        "\n",
        "* **Last Updated** - последнее обновление\n",
        "\n",
        "* **Current Ver** - текущая версия\n",
        "\n",
        "* **Android Ver** - совместимая версия системы\n",
        "\n",
        "\n",
        "Попробуем по этим данным определить рейтинг приложения."
      ]
    },
    {
      "cell_type": "code",
      "execution_count": null,
      "metadata": {
        "id": "eMagFERng3i3",
        "outputId": "48753f83-ba5d-4eb0-b539-ea091af453fb"
      },
      "outputs": [
        {
          "data": {
            "text/html": [
              "<div>\n",
              "<style scoped>\n",
              "    .dataframe tbody tr th:only-of-type {\n",
              "        vertical-align: middle;\n",
              "    }\n",
              "\n",
              "    .dataframe tbody tr th {\n",
              "        vertical-align: top;\n",
              "    }\n",
              "\n",
              "    .dataframe thead th {\n",
              "        text-align: right;\n",
              "    }\n",
              "</style>\n",
              "<table border=\"1\" class=\"dataframe\">\n",
              "  <thead>\n",
              "    <tr style=\"text-align: right;\">\n",
              "      <th></th>\n",
              "      <th>App</th>\n",
              "      <th>Category</th>\n",
              "      <th>Rating</th>\n",
              "      <th>Reviews</th>\n",
              "      <th>Size</th>\n",
              "      <th>Installs</th>\n",
              "      <th>Type</th>\n",
              "      <th>Price</th>\n",
              "      <th>Content Rating</th>\n",
              "      <th>Genres</th>\n",
              "      <th>Last Updated</th>\n",
              "      <th>Current Ver</th>\n",
              "      <th>Android Ver</th>\n",
              "    </tr>\n",
              "  </thead>\n",
              "  <tbody>\n",
              "    <tr>\n",
              "      <th>0</th>\n",
              "      <td>Photo Editor &amp; Candy Camera &amp; Grid &amp; ScrapBook</td>\n",
              "      <td>ART_AND_DESIGN</td>\n",
              "      <td>4.1</td>\n",
              "      <td>159</td>\n",
              "      <td>19M</td>\n",
              "      <td>10,000+</td>\n",
              "      <td>Free</td>\n",
              "      <td>0</td>\n",
              "      <td>Everyone</td>\n",
              "      <td>Art &amp; Design</td>\n",
              "      <td>January 7, 2018</td>\n",
              "      <td>1.0.0</td>\n",
              "      <td>4.0.3 and up</td>\n",
              "    </tr>\n",
              "    <tr>\n",
              "      <th>1</th>\n",
              "      <td>Coloring book moana</td>\n",
              "      <td>ART_AND_DESIGN</td>\n",
              "      <td>3.9</td>\n",
              "      <td>967</td>\n",
              "      <td>14M</td>\n",
              "      <td>500,000+</td>\n",
              "      <td>Free</td>\n",
              "      <td>0</td>\n",
              "      <td>Everyone</td>\n",
              "      <td>Art &amp; Design;Pretend Play</td>\n",
              "      <td>January 15, 2018</td>\n",
              "      <td>2.0.0</td>\n",
              "      <td>4.0.3 and up</td>\n",
              "    </tr>\n",
              "    <tr>\n",
              "      <th>2</th>\n",
              "      <td>U Launcher Lite – FREE Live Cool Themes, Hide ...</td>\n",
              "      <td>ART_AND_DESIGN</td>\n",
              "      <td>4.7</td>\n",
              "      <td>87510</td>\n",
              "      <td>8.7M</td>\n",
              "      <td>5,000,000+</td>\n",
              "      <td>Free</td>\n",
              "      <td>0</td>\n",
              "      <td>Everyone</td>\n",
              "      <td>Art &amp; Design</td>\n",
              "      <td>August 1, 2018</td>\n",
              "      <td>1.2.4</td>\n",
              "      <td>4.0.3 and up</td>\n",
              "    </tr>\n",
              "    <tr>\n",
              "      <th>3</th>\n",
              "      <td>Sketch - Draw &amp; Paint</td>\n",
              "      <td>ART_AND_DESIGN</td>\n",
              "      <td>4.5</td>\n",
              "      <td>215644</td>\n",
              "      <td>25M</td>\n",
              "      <td>50,000,000+</td>\n",
              "      <td>Free</td>\n",
              "      <td>0</td>\n",
              "      <td>Teen</td>\n",
              "      <td>Art &amp; Design</td>\n",
              "      <td>June 8, 2018</td>\n",
              "      <td>Varies with device</td>\n",
              "      <td>4.2 and up</td>\n",
              "    </tr>\n",
              "    <tr>\n",
              "      <th>4</th>\n",
              "      <td>Pixel Draw - Number Art Coloring Book</td>\n",
              "      <td>ART_AND_DESIGN</td>\n",
              "      <td>4.3</td>\n",
              "      <td>967</td>\n",
              "      <td>2.8M</td>\n",
              "      <td>100,000+</td>\n",
              "      <td>Free</td>\n",
              "      <td>0</td>\n",
              "      <td>Everyone</td>\n",
              "      <td>Art &amp; Design;Creativity</td>\n",
              "      <td>June 20, 2018</td>\n",
              "      <td>1.1</td>\n",
              "      <td>4.4 and up</td>\n",
              "    </tr>\n",
              "  </tbody>\n",
              "</table>\n",
              "</div>"
            ],
            "text/plain": [
              "                                                 App        Category  Rating  \\\n",
              "0     Photo Editor & Candy Camera & Grid & ScrapBook  ART_AND_DESIGN     4.1   \n",
              "1                                Coloring book moana  ART_AND_DESIGN     3.9   \n",
              "2  U Launcher Lite – FREE Live Cool Themes, Hide ...  ART_AND_DESIGN     4.7   \n",
              "3                              Sketch - Draw & Paint  ART_AND_DESIGN     4.5   \n",
              "4              Pixel Draw - Number Art Coloring Book  ART_AND_DESIGN     4.3   \n",
              "\n",
              "  Reviews  Size     Installs  Type Price Content Rating  \\\n",
              "0     159   19M      10,000+  Free     0       Everyone   \n",
              "1     967   14M     500,000+  Free     0       Everyone   \n",
              "2   87510  8.7M   5,000,000+  Free     0       Everyone   \n",
              "3  215644   25M  50,000,000+  Free     0           Teen   \n",
              "4     967  2.8M     100,000+  Free     0       Everyone   \n",
              "\n",
              "                      Genres      Last Updated         Current Ver  \\\n",
              "0               Art & Design   January 7, 2018               1.0.0   \n",
              "1  Art & Design;Pretend Play  January 15, 2018               2.0.0   \n",
              "2               Art & Design    August 1, 2018               1.2.4   \n",
              "3               Art & Design      June 8, 2018  Varies with device   \n",
              "4    Art & Design;Creativity     June 20, 2018                 1.1   \n",
              "\n",
              "    Android Ver  \n",
              "0  4.0.3 and up  \n",
              "1  4.0.3 and up  \n",
              "2  4.0.3 and up  \n",
              "3    4.2 and up  \n",
              "4    4.4 and up  "
            ]
          },
          "execution_count": 4,
          "metadata": {},
          "output_type": "execute_result"
        }
      ],
      "source": [
        "url = 'googleplaystore.csv'\n",
        "data = pd.read_csv(url, sep = ',', engine='python')\n",
        "data.head()"
      ]
    },
    {
      "cell_type": "markdown",
      "metadata": {
        "id": "Da3Ut0Hkg3i6"
      },
      "source": [
        "Удалим столбцы, которые нам не нужны или дублируют информацию."
      ]
    },
    {
      "cell_type": "code",
      "execution_count": null,
      "metadata": {
        "id": "36OSW42ug3i7",
        "outputId": "4233b06e-b3b1-4262-e6f4-3353bc07582a"
      },
      "outputs": [
        {
          "data": {
            "text/html": [
              "<div>\n",
              "<style scoped>\n",
              "    .dataframe tbody tr th:only-of-type {\n",
              "        vertical-align: middle;\n",
              "    }\n",
              "\n",
              "    .dataframe tbody tr th {\n",
              "        vertical-align: top;\n",
              "    }\n",
              "\n",
              "    .dataframe thead th {\n",
              "        text-align: right;\n",
              "    }\n",
              "</style>\n",
              "<table border=\"1\" class=\"dataframe\">\n",
              "  <thead>\n",
              "    <tr style=\"text-align: right;\">\n",
              "      <th></th>\n",
              "      <th>Category</th>\n",
              "      <th>Rating</th>\n",
              "      <th>Reviews</th>\n",
              "      <th>Size</th>\n",
              "      <th>Installs</th>\n",
              "      <th>Price</th>\n",
              "      <th>Content Rating</th>\n",
              "    </tr>\n",
              "  </thead>\n",
              "  <tbody>\n",
              "    <tr>\n",
              "      <th>0</th>\n",
              "      <td>ART_AND_DESIGN</td>\n",
              "      <td>4.1</td>\n",
              "      <td>159</td>\n",
              "      <td>19M</td>\n",
              "      <td>10,000+</td>\n",
              "      <td>0</td>\n",
              "      <td>Everyone</td>\n",
              "    </tr>\n",
              "    <tr>\n",
              "      <th>1</th>\n",
              "      <td>ART_AND_DESIGN</td>\n",
              "      <td>3.9</td>\n",
              "      <td>967</td>\n",
              "      <td>14M</td>\n",
              "      <td>500,000+</td>\n",
              "      <td>0</td>\n",
              "      <td>Everyone</td>\n",
              "    </tr>\n",
              "    <tr>\n",
              "      <th>2</th>\n",
              "      <td>ART_AND_DESIGN</td>\n",
              "      <td>4.7</td>\n",
              "      <td>87510</td>\n",
              "      <td>8.7M</td>\n",
              "      <td>5,000,000+</td>\n",
              "      <td>0</td>\n",
              "      <td>Everyone</td>\n",
              "    </tr>\n",
              "    <tr>\n",
              "      <th>3</th>\n",
              "      <td>ART_AND_DESIGN</td>\n",
              "      <td>4.5</td>\n",
              "      <td>215644</td>\n",
              "      <td>25M</td>\n",
              "      <td>50,000,000+</td>\n",
              "      <td>0</td>\n",
              "      <td>Teen</td>\n",
              "    </tr>\n",
              "    <tr>\n",
              "      <th>4</th>\n",
              "      <td>ART_AND_DESIGN</td>\n",
              "      <td>4.3</td>\n",
              "      <td>967</td>\n",
              "      <td>2.8M</td>\n",
              "      <td>100,000+</td>\n",
              "      <td>0</td>\n",
              "      <td>Everyone</td>\n",
              "    </tr>\n",
              "  </tbody>\n",
              "</table>\n",
              "</div>"
            ],
            "text/plain": [
              "         Category  Rating Reviews  Size     Installs Price Content Rating\n",
              "0  ART_AND_DESIGN     4.1     159   19M      10,000+     0       Everyone\n",
              "1  ART_AND_DESIGN     3.9     967   14M     500,000+     0       Everyone\n",
              "2  ART_AND_DESIGN     4.7   87510  8.7M   5,000,000+     0       Everyone\n",
              "3  ART_AND_DESIGN     4.5  215644   25M  50,000,000+     0           Teen\n",
              "4  ART_AND_DESIGN     4.3     967  2.8M     100,000+     0       Everyone"
            ]
          },
          "execution_count": 5,
          "metadata": {},
          "output_type": "execute_result"
        }
      ],
      "source": [
        "data = data.drop('Genres', axis = 1)\\\n",
        "            .drop('Last Updated', axis = 1)\\\n",
        "           .drop('Current Ver',    axis = 1)\\\n",
        "           .drop('Android Ver', axis = 1) \\\n",
        "            .drop('App', axis = 1) \\\n",
        "            .drop('Type', axis = 1)\n",
        "data.head()"
      ]
    },
    {
      "cell_type": "markdown",
      "metadata": {
        "id": "w8n6z95Ag3i9"
      },
      "source": [
        "## Начнём подготовку данных.\n",
        "Для начала приведём произвольные типы столбцов к удобным.\n",
        "Избавимся от лишних символов в данных."
      ]
    },
    {
      "cell_type": "code",
      "execution_count": null,
      "metadata": {
        "id": "83_FiLedg3i_",
        "outputId": "3df3ee1d-1f2b-460b-83dc-0b42edfeea90"
      },
      "outputs": [
        {
          "data": {
            "text/html": [
              "<div>\n",
              "<style scoped>\n",
              "    .dataframe tbody tr th:only-of-type {\n",
              "        vertical-align: middle;\n",
              "    }\n",
              "\n",
              "    .dataframe tbody tr th {\n",
              "        vertical-align: top;\n",
              "    }\n",
              "\n",
              "    .dataframe thead th {\n",
              "        text-align: right;\n",
              "    }\n",
              "</style>\n",
              "<table border=\"1\" class=\"dataframe\">\n",
              "  <thead>\n",
              "    <tr style=\"text-align: right;\">\n",
              "      <th></th>\n",
              "      <th>Category</th>\n",
              "      <th>Rating</th>\n",
              "      <th>Reviews</th>\n",
              "      <th>Size</th>\n",
              "      <th>Installs</th>\n",
              "      <th>Price</th>\n",
              "      <th>Content Rating</th>\n",
              "    </tr>\n",
              "  </thead>\n",
              "  <tbody>\n",
              "    <tr>\n",
              "      <th>0</th>\n",
              "      <td>ART_AND_DESIGN</td>\n",
              "      <td>4.1</td>\n",
              "      <td>159.0</td>\n",
              "      <td>19.0</td>\n",
              "      <td>10000.0</td>\n",
              "      <td>0.0</td>\n",
              "      <td>Everyone</td>\n",
              "    </tr>\n",
              "    <tr>\n",
              "      <th>1</th>\n",
              "      <td>ART_AND_DESIGN</td>\n",
              "      <td>3.9</td>\n",
              "      <td>967.0</td>\n",
              "      <td>14.0</td>\n",
              "      <td>500000.0</td>\n",
              "      <td>0.0</td>\n",
              "      <td>Everyone</td>\n",
              "    </tr>\n",
              "    <tr>\n",
              "      <th>2</th>\n",
              "      <td>ART_AND_DESIGN</td>\n",
              "      <td>4.7</td>\n",
              "      <td>87510.0</td>\n",
              "      <td>8.0</td>\n",
              "      <td>5000000.0</td>\n",
              "      <td>0.0</td>\n",
              "      <td>Everyone</td>\n",
              "    </tr>\n",
              "    <tr>\n",
              "      <th>3</th>\n",
              "      <td>ART_AND_DESIGN</td>\n",
              "      <td>4.5</td>\n",
              "      <td>215644.0</td>\n",
              "      <td>25.0</td>\n",
              "      <td>50000000.0</td>\n",
              "      <td>0.0</td>\n",
              "      <td>Teen</td>\n",
              "    </tr>\n",
              "    <tr>\n",
              "      <th>4</th>\n",
              "      <td>ART_AND_DESIGN</td>\n",
              "      <td>4.3</td>\n",
              "      <td>967.0</td>\n",
              "      <td>2.0</td>\n",
              "      <td>100000.0</td>\n",
              "      <td>0.0</td>\n",
              "      <td>Everyone</td>\n",
              "    </tr>\n",
              "  </tbody>\n",
              "</table>\n",
              "</div>"
            ],
            "text/plain": [
              "         Category  Rating   Reviews  Size    Installs  Price Content Rating\n",
              "0  ART_AND_DESIGN     4.1     159.0  19.0     10000.0    0.0       Everyone\n",
              "1  ART_AND_DESIGN     3.9     967.0  14.0    500000.0    0.0       Everyone\n",
              "2  ART_AND_DESIGN     4.7   87510.0   8.0   5000000.0    0.0       Everyone\n",
              "3  ART_AND_DESIGN     4.5  215644.0  25.0  50000000.0    0.0           Teen\n",
              "4  ART_AND_DESIGN     4.3     967.0   2.0    100000.0    0.0       Everyone"
            ]
          },
          "execution_count": 6,
          "metadata": {},
          "output_type": "execute_result"
        }
      ],
      "source": [
        "data['Reviews'] = pd.to_numeric(data['Reviews'], errors='coerce')\n",
        "data['Size'] = data['Size'].str.extract('(\\d+)')\n",
        "data['Size'] = pd.to_numeric(data['Size'], errors='coerce')\n",
        "data['Installs'] = data['Installs'].str.replace('[,+]', '')\n",
        "data['Installs'] = pd.to_numeric(data['Installs'], errors='coerce')\n",
        "data['Price'] = data['Price'].str.replace('[$]', '')\n",
        "data['Price'] = pd.to_numeric(data['Price'], errors='coerce')\n",
        "data.head()"
      ]
    },
    {
      "cell_type": "markdown",
      "metadata": {
        "id": "E6tEM4QCg3jA"
      },
      "source": [
        "Выделим категориальные и числовые столбцы."
      ]
    },
    {
      "cell_type": "code",
      "execution_count": null,
      "metadata": {
        "id": "Vgpg3_fpg3jC",
        "outputId": "be9e179c-7704-47bc-8075-d23e46def923"
      },
      "outputs": [
        {
          "name": "stdout",
          "output_type": "stream",
          "text": [
            "['Category', 'Content Rating']\n",
            "['Rating', 'Reviews', 'Size', 'Installs', 'Price']\n"
          ]
        }
      ],
      "source": [
        "categorical_columns = [c for c in data.columns if data[c].dtype.name == 'object']\n",
        "numerical_columns   = [c for c in data.columns if data[c].dtype.name != 'object']\n",
        "print(categorical_columns)\n",
        "print(numerical_columns)"
      ]
    },
    {
      "cell_type": "code",
      "execution_count": null,
      "metadata": {
        "id": "zjIzkdW5g3jD",
        "outputId": "5ca4d646-f113-4b92-fafc-9c05be0066cb"
      },
      "outputs": [
        {
          "name": "stdout",
          "output_type": "stream",
          "text": [
            "Category ['ART_AND_DESIGN' 'AUTO_AND_VEHICLES' 'BEAUTY' 'BOOKS_AND_REFERENCE'\n",
            " 'BUSINESS' 'COMICS' 'COMMUNICATION' 'DATING' 'EDUCATION' 'ENTERTAINMENT'\n",
            " 'EVENTS' 'FINANCE' 'FOOD_AND_DRINK' 'HEALTH_AND_FITNESS' 'HOUSE_AND_HOME'\n",
            " 'LIBRARIES_AND_DEMO' 'LIFESTYLE' 'GAME' 'FAMILY' 'MEDICAL' 'SOCIAL'\n",
            " 'SHOPPING' 'PHOTOGRAPHY' 'SPORTS' 'TRAVEL_AND_LOCAL' 'TOOLS'\n",
            " 'PERSONALIZATION' 'PRODUCTIVITY' 'PARENTING' 'WEATHER' 'VIDEO_PLAYERS'\n",
            " 'NEWS_AND_MAGAZINES' 'MAPS_AND_NAVIGATION' '1.9']\n",
            "Content Rating ['Everyone' 'Teen' 'Everyone 10+' 'Mature 17+' 'Adults only 18+' 'Unrated'\n",
            " nan]\n"
          ]
        }
      ],
      "source": [
        "for c in categorical_columns:\n",
        "    print(c, data[c].unique())"
      ]
    },
    {
      "cell_type": "markdown",
      "metadata": {
        "id": "k7KWSTTWg3jF"
      },
      "source": [
        "Заполним пропущенные значения."
      ]
    },
    {
      "cell_type": "code",
      "execution_count": null,
      "metadata": {
        "id": "0S2DOWJSg3jG",
        "outputId": "7c4ec1ed-2818-4392-bc60-209f2fc724bb"
      },
      "outputs": [
        {
          "data": {
            "text/plain": [
              "Rating           4.3\n",
              "Reviews       2094.0\n",
              "Size            15.0\n",
              "Installs    100000.0\n",
              "Price            0.0\n",
              "dtype: float64"
            ]
          },
          "execution_count": 9,
          "metadata": {},
          "output_type": "execute_result"
        }
      ],
      "source": [
        "data.median(axis = 0)"
      ]
    },
    {
      "cell_type": "code",
      "execution_count": null,
      "metadata": {
        "id": "rlZdXnd-g3jI",
        "outputId": "c28d114b-960e-4229-8b4b-edbef5b81179"
      },
      "outputs": [
        {
          "data": {
            "text/plain": [
              "Rating      10841\n",
              "Reviews     10841\n",
              "Size        10841\n",
              "Installs    10841\n",
              "Price       10841\n",
              "dtype: int64"
            ]
          },
          "execution_count": 10,
          "metadata": {},
          "output_type": "execute_result"
        }
      ],
      "source": [
        "data = data.fillna(data.median(axis = 0), axis = 0)\n",
        "data[numerical_columns].count(axis = 0)"
      ]
    },
    {
      "cell_type": "code",
      "execution_count": null,
      "metadata": {
        "id": "v05249QCg3jJ",
        "outputId": "8f3270cf-b9cf-4973-f531-39beddc22a80"
      },
      "outputs": [
        {
          "data": {
            "text/plain": [
              "Category          10841\n",
              "Content Rating    10840\n",
              "dtype: int64"
            ]
          },
          "execution_count": 11,
          "metadata": {},
          "output_type": "execute_result"
        }
      ],
      "source": [
        "data[categorical_columns].count(axis = 0)"
      ]
    },
    {
      "cell_type": "code",
      "execution_count": null,
      "metadata": {
        "id": "RTCJzATGg3jL",
        "outputId": "5d10dcd6-798d-4fd0-d7ec-5532a4624692"
      },
      "outputs": [
        {
          "data": {
            "text/plain": [
              "count        10840\n",
              "unique           6\n",
              "top       Everyone\n",
              "freq          8714\n",
              "Name: Content Rating, dtype: object"
            ]
          },
          "execution_count": 12,
          "metadata": {},
          "output_type": "execute_result"
        }
      ],
      "source": [
        "data['Content Rating'].describe()"
      ]
    },
    {
      "cell_type": "code",
      "execution_count": null,
      "metadata": {
        "id": "7CSOInlhg3jN",
        "outputId": "27b2478a-be4e-459b-f36f-d8126e7838cf"
      },
      "outputs": [
        {
          "data": {
            "text/plain": [
              "Category          10841\n",
              "Content Rating    10841\n",
              "dtype: int64"
            ]
          },
          "execution_count": 13,
          "metadata": {},
          "output_type": "execute_result"
        }
      ],
      "source": [
        "data['Content Rating'] = data['Content Rating'].fillna(data['Content Rating'].describe().top)\n",
        "data[categorical_columns].count(axis = 0)"
      ]
    },
    {
      "cell_type": "code",
      "execution_count": null,
      "metadata": {
        "id": "88jQWBg8g3jP",
        "outputId": "8e6e566d-9947-4ac7-96bf-10ab565835e3"
      },
      "outputs": [
        {
          "data": {
            "text/html": [
              "<div>\n",
              "<style scoped>\n",
              "    .dataframe tbody tr th:only-of-type {\n",
              "        vertical-align: middle;\n",
              "    }\n",
              "\n",
              "    .dataframe tbody tr th {\n",
              "        vertical-align: top;\n",
              "    }\n",
              "\n",
              "    .dataframe thead th {\n",
              "        text-align: right;\n",
              "    }\n",
              "</style>\n",
              "<table border=\"1\" class=\"dataframe\">\n",
              "  <thead>\n",
              "    <tr style=\"text-align: right;\">\n",
              "      <th></th>\n",
              "      <th>Category</th>\n",
              "      <th>Content Rating</th>\n",
              "    </tr>\n",
              "  </thead>\n",
              "  <tbody>\n",
              "    <tr>\n",
              "      <th>count</th>\n",
              "      <td>10841</td>\n",
              "      <td>10841</td>\n",
              "    </tr>\n",
              "    <tr>\n",
              "      <th>unique</th>\n",
              "      <td>34</td>\n",
              "      <td>6</td>\n",
              "    </tr>\n",
              "    <tr>\n",
              "      <th>top</th>\n",
              "      <td>FAMILY</td>\n",
              "      <td>Everyone</td>\n",
              "    </tr>\n",
              "    <tr>\n",
              "      <th>freq</th>\n",
              "      <td>1972</td>\n",
              "      <td>8715</td>\n",
              "    </tr>\n",
              "  </tbody>\n",
              "</table>\n",
              "</div>"
            ],
            "text/plain": [
              "       Category Content Rating\n",
              "count     10841          10841\n",
              "unique       34              6\n",
              "top      FAMILY       Everyone\n",
              "freq       1972           8715"
            ]
          },
          "execution_count": 14,
          "metadata": {},
          "output_type": "execute_result"
        }
      ],
      "source": [
        "data.describe(include = [object])"
      ]
    },
    {
      "cell_type": "code",
      "execution_count": null,
      "metadata": {
        "id": "b3kFGtJjg3jR",
        "outputId": "f79229ee-5259-4e03-d6fa-2208064ad8c2"
      },
      "outputs": [
        {
          "data": {
            "text/html": [
              "<div>\n",
              "<style scoped>\n",
              "    .dataframe tbody tr th:only-of-type {\n",
              "        vertical-align: middle;\n",
              "    }\n",
              "\n",
              "    .dataframe tbody tr th {\n",
              "        vertical-align: top;\n",
              "    }\n",
              "\n",
              "    .dataframe thead th {\n",
              "        text-align: right;\n",
              "    }\n",
              "</style>\n",
              "<table border=\"1\" class=\"dataframe\">\n",
              "  <thead>\n",
              "    <tr style=\"text-align: right;\">\n",
              "      <th></th>\n",
              "      <th>Category</th>\n",
              "      <th>Content Rating</th>\n",
              "    </tr>\n",
              "  </thead>\n",
              "  <tbody>\n",
              "    <tr>\n",
              "      <th>count</th>\n",
              "      <td>10841</td>\n",
              "      <td>10841</td>\n",
              "    </tr>\n",
              "    <tr>\n",
              "      <th>unique</th>\n",
              "      <td>34</td>\n",
              "      <td>6</td>\n",
              "    </tr>\n",
              "    <tr>\n",
              "      <th>top</th>\n",
              "      <td>FAMILY</td>\n",
              "      <td>Everyone</td>\n",
              "    </tr>\n",
              "    <tr>\n",
              "      <th>freq</th>\n",
              "      <td>1972</td>\n",
              "      <td>8715</td>\n",
              "    </tr>\n",
              "  </tbody>\n",
              "</table>\n",
              "</div>"
            ],
            "text/plain": [
              "       Category Content Rating\n",
              "count     10841          10841\n",
              "unique       34              6\n",
              "top      FAMILY       Everyone\n",
              "freq       1972           8715"
            ]
          },
          "execution_count": 15,
          "metadata": {},
          "output_type": "execute_result"
        }
      ],
      "source": [
        "data_describe = data.describe(include = [object])\n",
        "for c in categorical_columns:\n",
        "    data[c] = data[c].fillna(data_describe[c]['top'])\n",
        "data.describe(include = [object])"
      ]
    },
    {
      "cell_type": "markdown",
      "metadata": {
        "id": "TA2W62FTg3jS"
      },
      "source": [
        "Снова преобразуем тип некоторых столбцов."
      ]
    },
    {
      "cell_type": "code",
      "execution_count": null,
      "metadata": {
        "id": "L6Dffz2mg3jT",
        "outputId": "7dcbe45d-59df-4980-a11e-0ee712083bf0"
      },
      "outputs": [
        {
          "data": {
            "text/plain": [
              "Category           object\n",
              "Rating              int64\n",
              "Reviews             int64\n",
              "Size                int64\n",
              "Installs            int64\n",
              "Price             float64\n",
              "Content Rating     object\n",
              "dtype: object"
            ]
          },
          "execution_count": 16,
          "metadata": {},
          "output_type": "execute_result"
        }
      ],
      "source": [
        "data['Reviews'] = data['Reviews'].astype(int)\n",
        "data['Size'] = data['Size'].astype(int)\n",
        "data['Installs'] = data['Installs'].astype(int)\n",
        "data['Rating'] = data['Rating'].astype(int)\n",
        "data.dtypes"
      ]
    },
    {
      "cell_type": "markdown",
      "metadata": {
        "id": "_CCMrSadg3jV"
      },
      "source": [
        "## Построим несколько зависимостей"
      ]
    },
    {
      "cell_type": "code",
      "execution_count": null,
      "metadata": {
        "id": "V3UxgAAXg3jW",
        "outputId": "b6ddcea3-49fc-41b6-eeaa-51523450513e"
      },
      "outputs": [
        {
          "data": {
            "text/html": [
              "<div>\n",
              "<style scoped>\n",
              "    .dataframe tbody tr th:only-of-type {\n",
              "        vertical-align: middle;\n",
              "    }\n",
              "\n",
              "    .dataframe tbody tr th {\n",
              "        vertical-align: top;\n",
              "    }\n",
              "\n",
              "    .dataframe thead th {\n",
              "        text-align: right;\n",
              "    }\n",
              "</style>\n",
              "<table border=\"1\" class=\"dataframe\">\n",
              "  <thead>\n",
              "    <tr style=\"text-align: right;\">\n",
              "      <th></th>\n",
              "      <th>Rating</th>\n",
              "      <th>Reviews</th>\n",
              "      <th>Size</th>\n",
              "      <th>Installs</th>\n",
              "      <th>Price</th>\n",
              "    </tr>\n",
              "  </thead>\n",
              "  <tbody>\n",
              "    <tr>\n",
              "      <th>count</th>\n",
              "      <td>10841.000000</td>\n",
              "      <td>1.084100e+04</td>\n",
              "      <td>10841.000000</td>\n",
              "      <td>1.084100e+04</td>\n",
              "      <td>10841.000000</td>\n",
              "    </tr>\n",
              "    <tr>\n",
              "      <th>mean</th>\n",
              "      <td>3.810719</td>\n",
              "      <td>4.441121e+05</td>\n",
              "      <td>33.437045</td>\n",
              "      <td>1.546292e+07</td>\n",
              "      <td>1.027273</td>\n",
              "    </tr>\n",
              "    <tr>\n",
              "      <th>std</th>\n",
              "      <td>0.547520</td>\n",
              "      <td>2.927629e+06</td>\n",
              "      <td>91.210047</td>\n",
              "      <td>8.502557e+07</td>\n",
              "      <td>15.948971</td>\n",
              "    </tr>\n",
              "    <tr>\n",
              "      <th>min</th>\n",
              "      <td>1.000000</td>\n",
              "      <td>0.000000e+00</td>\n",
              "      <td>1.000000</td>\n",
              "      <td>0.000000e+00</td>\n",
              "      <td>0.000000</td>\n",
              "    </tr>\n",
              "    <tr>\n",
              "      <th>25%</th>\n",
              "      <td>4.000000</td>\n",
              "      <td>3.800000e+01</td>\n",
              "      <td>6.000000</td>\n",
              "      <td>1.000000e+03</td>\n",
              "      <td>0.000000</td>\n",
              "    </tr>\n",
              "    <tr>\n",
              "      <th>50%</th>\n",
              "      <td>4.000000</td>\n",
              "      <td>2.094000e+03</td>\n",
              "      <td>15.000000</td>\n",
              "      <td>1.000000e+05</td>\n",
              "      <td>0.000000</td>\n",
              "    </tr>\n",
              "    <tr>\n",
              "      <th>75%</th>\n",
              "      <td>4.000000</td>\n",
              "      <td>5.476800e+04</td>\n",
              "      <td>28.000000</td>\n",
              "      <td>5.000000e+06</td>\n",
              "      <td>0.000000</td>\n",
              "    </tr>\n",
              "    <tr>\n",
              "      <th>max</th>\n",
              "      <td>19.000000</td>\n",
              "      <td>7.815831e+07</td>\n",
              "      <td>1020.000000</td>\n",
              "      <td>1.000000e+09</td>\n",
              "      <td>400.000000</td>\n",
              "    </tr>\n",
              "  </tbody>\n",
              "</table>\n",
              "</div>"
            ],
            "text/plain": [
              "             Rating       Reviews          Size      Installs         Price\n",
              "count  10841.000000  1.084100e+04  10841.000000  1.084100e+04  10841.000000\n",
              "mean       3.810719  4.441121e+05     33.437045  1.546292e+07      1.027273\n",
              "std        0.547520  2.927629e+06     91.210047  8.502557e+07     15.948971\n",
              "min        1.000000  0.000000e+00      1.000000  0.000000e+00      0.000000\n",
              "25%        4.000000  3.800000e+01      6.000000  1.000000e+03      0.000000\n",
              "50%        4.000000  2.094000e+03     15.000000  1.000000e+05      0.000000\n",
              "75%        4.000000  5.476800e+04     28.000000  5.000000e+06      0.000000\n",
              "max       19.000000  7.815831e+07   1020.000000  1.000000e+09    400.000000"
            ]
          },
          "execution_count": 17,
          "metadata": {},
          "output_type": "execute_result"
        }
      ],
      "source": [
        "data.describe()"
      ]
    },
    {
      "cell_type": "code",
      "execution_count": null,
      "metadata": {
        "id": "u9WoTshOg3jX",
        "outputId": "7f373b75-dffe-4499-a32c-7c535c613d0d"
      },
      "outputs": [
        {
          "data": {
            "text/html": [
              "<div>\n",
              "<style scoped>\n",
              "    .dataframe tbody tr th:only-of-type {\n",
              "        vertical-align: middle;\n",
              "    }\n",
              "\n",
              "    .dataframe tbody tr th {\n",
              "        vertical-align: top;\n",
              "    }\n",
              "\n",
              "    .dataframe thead th {\n",
              "        text-align: right;\n",
              "    }\n",
              "</style>\n",
              "<table border=\"1\" class=\"dataframe\">\n",
              "  <thead>\n",
              "    <tr style=\"text-align: right;\">\n",
              "      <th></th>\n",
              "      <th>Rating</th>\n",
              "      <th>Reviews</th>\n",
              "      <th>Size</th>\n",
              "      <th>Installs</th>\n",
              "      <th>Price</th>\n",
              "    </tr>\n",
              "  </thead>\n",
              "  <tbody>\n",
              "    <tr>\n",
              "      <th>Rating</th>\n",
              "      <td>1.000000</td>\n",
              "      <td>0.049977</td>\n",
              "      <td>-0.021087</td>\n",
              "      <td>0.044272</td>\n",
              "      <td>-0.020689</td>\n",
              "    </tr>\n",
              "    <tr>\n",
              "      <th>Reviews</th>\n",
              "      <td>0.049977</td>\n",
              "      <td>1.000000</td>\n",
              "      <td>0.003864</td>\n",
              "      <td>0.643123</td>\n",
              "      <td>-0.009666</td>\n",
              "    </tr>\n",
              "    <tr>\n",
              "      <th>Size</th>\n",
              "      <td>-0.021087</td>\n",
              "      <td>0.003864</td>\n",
              "      <td>1.000000</td>\n",
              "      <td>-0.012405</td>\n",
              "      <td>0.016292</td>\n",
              "    </tr>\n",
              "    <tr>\n",
              "      <th>Installs</th>\n",
              "      <td>0.044272</td>\n",
              "      <td>0.643123</td>\n",
              "      <td>-0.012405</td>\n",
              "      <td>1.000000</td>\n",
              "      <td>-0.011688</td>\n",
              "    </tr>\n",
              "    <tr>\n",
              "      <th>Price</th>\n",
              "      <td>-0.020689</td>\n",
              "      <td>-0.009666</td>\n",
              "      <td>0.016292</td>\n",
              "      <td>-0.011688</td>\n",
              "      <td>1.000000</td>\n",
              "    </tr>\n",
              "  </tbody>\n",
              "</table>\n",
              "</div>"
            ],
            "text/plain": [
              "            Rating   Reviews      Size  Installs     Price\n",
              "Rating    1.000000  0.049977 -0.021087  0.044272 -0.020689\n",
              "Reviews   0.049977  1.000000  0.003864  0.643123 -0.009666\n",
              "Size     -0.021087  0.003864  1.000000 -0.012405  0.016292\n",
              "Installs  0.044272  0.643123 -0.012405  1.000000 -0.011688\n",
              "Price    -0.020689 -0.009666  0.016292 -0.011688  1.000000"
            ]
          },
          "execution_count": 16,
          "metadata": {},
          "output_type": "execute_result"
        }
      ],
      "source": [
        "data.corr()"
      ]
    },
    {
      "cell_type": "code",
      "execution_count": null,
      "metadata": {
        "id": "DgdsDNcXg3jY",
        "outputId": "e33def17-89a4-4850-d528-a742348fba94"
      },
      "outputs": [
        {
          "name": "stderr",
          "output_type": "stream",
          "text": [
            "/anaconda3/lib/python3.6/site-packages/ipykernel_launcher.py:2: FutureWarning: 'pandas.tools.plotting.scatter_matrix' is deprecated, import 'pandas.plotting.scatter_matrix' instead.\n",
            "  \n"
          ]
        },
        {
          "data": {
            "image/png": "[encoded data removed]",
            "text/plain": [
              "<Figure size 720x720 with 25 Axes>"
            ]
          },
          "metadata": {},
          "output_type": "display_data"
        }
      ],
      "source": [
        "from pandas.tools.plotting import scatter_matrix\n",
        "scatter_matrix(data, alpha = .01, figsize = (10, 10))\n",
        "pass"
      ]
    },
    {
      "cell_type": "code",
      "execution_count": null,
      "metadata": {
        "id": "KmVTAK2Wg3ja",
        "outputId": "fcd99c0f-0bab-4dce-b9b5-556bea4e474b"
      },
      "outputs": [
        {
          "data": {
            "image/png": "[encoded data removed]",
            "text/plain": [
              "<Figure size 432x288 with 1 Axes>"
            ]
          },
          "metadata": {},
          "output_type": "display_data"
        }
      ],
      "source": [
        "plt.plot(data['Rating'], data['Reviews'], 'o', alpha = 0.05)\n",
        "plt.xlabel('Rating')\n",
        "plt.ylabel('Reviews')\n",
        "plt.title('a')\n",
        "pass"
      ]
    },
    {
      "cell_type": "markdown",
      "metadata": {
        "id": "GLMkYydrg3jb"
      },
      "source": [
        "## Будем угадывать рейтинг, так что немного изменим содержание столбца.\n",
        "Изменим столбец Rating на признак:\n",
        "* 5 - рейтинг большей 4.5\n",
        "* 4 - рейтинг от 3.5 до 4.5\n",
        "* 3 - рейтинг от 2.5 до 3.5\n",
        "* 2 - рейтинг от 1.5 до 2.5\n",
        "* 1 - рейтинг меньше 1.5"
      ]
    },
    {
      "cell_type": "code",
      "execution_count": null,
      "metadata": {
        "id": "gslR2RV_g3jc",
        "outputId": "298aff5a-66e1-4c98-d395-db1d8da169ca"
      },
      "outputs": [
        {
          "data": {
            "text/html": [
              "<div>\n",
              "<style scoped>\n",
              "    .dataframe tbody tr th:only-of-type {\n",
              "        vertical-align: middle;\n",
              "    }\n",
              "\n",
              "    .dataframe tbody tr th {\n",
              "        vertical-align: top;\n",
              "    }\n",
              "\n",
              "    .dataframe thead th {\n",
              "        text-align: right;\n",
              "    }\n",
              "</style>\n",
              "<table border=\"1\" class=\"dataframe\">\n",
              "  <thead>\n",
              "    <tr style=\"text-align: right;\">\n",
              "      <th></th>\n",
              "      <th>Category</th>\n",
              "      <th>Rating</th>\n",
              "      <th>Reviews</th>\n",
              "      <th>Size</th>\n",
              "      <th>Installs</th>\n",
              "      <th>Price</th>\n",
              "      <th>Content Rating</th>\n",
              "    </tr>\n",
              "  </thead>\n",
              "  <tbody>\n",
              "    <tr>\n",
              "      <th>0</th>\n",
              "      <td>ART_AND_DESIGN</td>\n",
              "      <td>4</td>\n",
              "      <td>159</td>\n",
              "      <td>19</td>\n",
              "      <td>10000</td>\n",
              "      <td>0.0</td>\n",
              "      <td>Everyone</td>\n",
              "    </tr>\n",
              "    <tr>\n",
              "      <th>1</th>\n",
              "      <td>ART_AND_DESIGN</td>\n",
              "      <td>3</td>\n",
              "      <td>967</td>\n",
              "      <td>14</td>\n",
              "      <td>500000</td>\n",
              "      <td>0.0</td>\n",
              "      <td>Everyone</td>\n",
              "    </tr>\n",
              "    <tr>\n",
              "      <th>2</th>\n",
              "      <td>ART_AND_DESIGN</td>\n",
              "      <td>4</td>\n",
              "      <td>87510</td>\n",
              "      <td>8</td>\n",
              "      <td>5000000</td>\n",
              "      <td>0.0</td>\n",
              "      <td>Everyone</td>\n",
              "    </tr>\n",
              "    <tr>\n",
              "      <th>3</th>\n",
              "      <td>ART_AND_DESIGN</td>\n",
              "      <td>4</td>\n",
              "      <td>215644</td>\n",
              "      <td>25</td>\n",
              "      <td>50000000</td>\n",
              "      <td>0.0</td>\n",
              "      <td>Teen</td>\n",
              "    </tr>\n",
              "    <tr>\n",
              "      <th>4</th>\n",
              "      <td>ART_AND_DESIGN</td>\n",
              "      <td>4</td>\n",
              "      <td>967</td>\n",
              "      <td>2</td>\n",
              "      <td>100000</td>\n",
              "      <td>0.0</td>\n",
              "      <td>Everyone</td>\n",
              "    </tr>\n",
              "  </tbody>\n",
              "</table>\n",
              "</div>"
            ],
            "text/plain": [
              "         Category  Rating  Reviews  Size  Installs  Price Content Rating\n",
              "0  ART_AND_DESIGN       4      159    19     10000    0.0       Everyone\n",
              "1  ART_AND_DESIGN       3      967    14    500000    0.0       Everyone\n",
              "2  ART_AND_DESIGN       4    87510     8   5000000    0.0       Everyone\n",
              "3  ART_AND_DESIGN       4   215644    25  50000000    0.0           Teen\n",
              "4  ART_AND_DESIGN       4      967     2    100000    0.0       Everyone"
            ]
          },
          "execution_count": 18,
          "metadata": {},
          "output_type": "execute_result"
        }
      ],
      "source": [
        "data.loc[data['Rating'] >= 4.5, 'Rating'] = 5\n",
        "data.loc[(data['Rating'] >= 3.5) & (data['Rating'] < 4.5), 'Rating'] = 4\n",
        "data.loc[(data['Rating'] >= 2.5) & (data['Rating'] < 3.5), 'Rating'] = 3\n",
        "data.loc[(data['Rating'] >= 1.5) & (data['Rating'] < 2.5), 'Rating'] = 2\n",
        "data.loc[data['Rating'] < 1.5, 'Rating'] = 1\n",
        "data.head()"
      ]
    },
    {
      "cell_type": "markdown",
      "metadata": {
        "id": "omfWqFmvg3jd"
      },
      "source": [
        "## Проведём векторизацию."
      ]
    },
    {
      "cell_type": "code",
      "execution_count": null,
      "metadata": {
        "id": "rXPzVX8qg3je",
        "outputId": "fe31d458-e2e0-4484-e374-793e6de02ff8"
      },
      "outputs": [
        {
          "name": "stdout",
          "output_type": "stream",
          "text": [
            "[] ['Category', 'Content Rating']\n"
          ]
        }
      ],
      "source": [
        "binary_columns    = [c for c in categorical_columns if data_describe[c]['unique'] == 2]\n",
        "nonbinary_columns = [c for c in categorical_columns if data_describe[c]['unique'] > 2]\n",
        "print(binary_columns, nonbinary_columns)"
      ]
    },
    {
      "cell_type": "code",
      "execution_count": null,
      "metadata": {
        "id": "Jr8BS6pHg3jf",
        "outputId": "d3c1729c-a059-4f19-d896-187675c94a88"
      },
      "outputs": [
        {
          "data": {
            "text/plain": [
              "array(['ART_AND_DESIGN', 'AUTO_AND_VEHICLES', 'BEAUTY',\n",
              "       'BOOKS_AND_REFERENCE', 'BUSINESS', 'COMICS', 'COMMUNICATION',\n",
              "       'DATING', 'EDUCATION', 'ENTERTAINMENT', 'EVENTS', 'FINANCE',\n",
              "       'FOOD_AND_DRINK', 'HEALTH_AND_FITNESS', 'HOUSE_AND_HOME',\n",
              "       'LIBRARIES_AND_DEMO', 'LIFESTYLE', 'GAME', 'FAMILY', 'MEDICAL',\n",
              "       'SOCIAL', 'SHOPPING', 'PHOTOGRAPHY', 'SPORTS', 'TRAVEL_AND_LOCAL',\n",
              "       'TOOLS', 'PERSONALIZATION', 'PRODUCTIVITY', 'PARENTING', 'WEATHER',\n",
              "       'VIDEO_PLAYERS', 'NEWS_AND_MAGAZINES', 'MAPS_AND_NAVIGATION',\n",
              "       '1.9'], dtype=object)"
            ]
          },
          "execution_count": 20,
          "metadata": {},
          "output_type": "execute_result"
        }
      ],
      "source": [
        "data['Category'].unique()"
      ]
    },
    {
      "cell_type": "code",
      "execution_count": null,
      "metadata": {
        "id": "AF4hROafg3jg",
        "outputId": "44f3f88a-9215-4157-b49e-5ac19a415c76"
      },
      "outputs": [
        {
          "name": "stdout",
          "output_type": "stream",
          "text": [
            "Index(['Category_1.9', 'Category_ART_AND_DESIGN', 'Category_AUTO_AND_VEHICLES',\n",
            "       'Category_BEAUTY', 'Category_BOOKS_AND_REFERENCE', 'Category_BUSINESS',\n",
            "       'Category_COMICS', 'Category_COMMUNICATION', 'Category_DATING',\n",
            "       'Category_EDUCATION', 'Category_ENTERTAINMENT', 'Category_EVENTS',\n",
            "       'Category_FAMILY', 'Category_FINANCE', 'Category_FOOD_AND_DRINK',\n",
            "       'Category_GAME', 'Category_HEALTH_AND_FITNESS',\n",
            "       'Category_HOUSE_AND_HOME', 'Category_LIBRARIES_AND_DEMO',\n",
            "       'Category_LIFESTYLE', 'Category_MAPS_AND_NAVIGATION',\n",
            "       'Category_MEDICAL', 'Category_NEWS_AND_MAGAZINES', 'Category_PARENTING',\n",
            "       'Category_PERSONALIZATION', 'Category_PHOTOGRAPHY',\n",
            "       'Category_PRODUCTIVITY', 'Category_SHOPPING', 'Category_SOCIAL',\n",
            "       'Category_SPORTS', 'Category_TOOLS', 'Category_TRAVEL_AND_LOCAL',\n",
            "       'Category_VIDEO_PLAYERS', 'Category_WEATHER',\n",
            "       'Content Rating_Adults only 18+', 'Content Rating_Everyone',\n",
            "       'Content Rating_Everyone 10+', 'Content Rating_Mature 17+',\n",
            "       'Content Rating_Teen', 'Content Rating_Unrated'],\n",
            "      dtype='object')\n"
          ]
        },
        {
          "data": {
            "text/html": [
              "<div>\n",
              "<style scoped>\n",
              "    .dataframe tbody tr th:only-of-type {\n",
              "        vertical-align: middle;\n",
              "    }\n",
              "\n",
              "    .dataframe tbody tr th {\n",
              "        vertical-align: top;\n",
              "    }\n",
              "\n",
              "    .dataframe thead th {\n",
              "        text-align: right;\n",
              "    }\n",
              "</style>\n",
              "<table border=\"1\" class=\"dataframe\">\n",
              "  <thead>\n",
              "    <tr style=\"text-align: right;\">\n",
              "      <th></th>\n",
              "      <th>Category_1.9</th>\n",
              "      <th>Category_ART_AND_DESIGN</th>\n",
              "      <th>Category_AUTO_AND_VEHICLES</th>\n",
              "      <th>Category_BEAUTY</th>\n",
              "      <th>Category_BOOKS_AND_REFERENCE</th>\n",
              "      <th>Category_BUSINESS</th>\n",
              "      <th>Category_COMICS</th>\n",
              "      <th>Category_COMMUNICATION</th>\n",
              "      <th>Category_DATING</th>\n",
              "      <th>Category_EDUCATION</th>\n",
              "      <th>...</th>\n",
              "      <th>Category_TOOLS</th>\n",
              "      <th>Category_TRAVEL_AND_LOCAL</th>\n",
              "      <th>Category_VIDEO_PLAYERS</th>\n",
              "      <th>Category_WEATHER</th>\n",
              "      <th>Content Rating_Adults only 18+</th>\n",
              "      <th>Content Rating_Everyone</th>\n",
              "      <th>Content Rating_Everyone 10+</th>\n",
              "      <th>Content Rating_Mature 17+</th>\n",
              "      <th>Content Rating_Teen</th>\n",
              "      <th>Content Rating_Unrated</th>\n",
              "    </tr>\n",
              "  </thead>\n",
              "  <tbody>\n",
              "    <tr>\n",
              "      <th>0</th>\n",
              "      <td>0</td>\n",
              "      <td>1</td>\n",
              "      <td>0</td>\n",
              "      <td>0</td>\n",
              "      <td>0</td>\n",
              "      <td>0</td>\n",
              "      <td>0</td>\n",
              "      <td>0</td>\n",
              "      <td>0</td>\n",
              "      <td>0</td>\n",
              "      <td>...</td>\n",
              "      <td>0</td>\n",
              "      <td>0</td>\n",
              "      <td>0</td>\n",
              "      <td>0</td>\n",
              "      <td>0</td>\n",
              "      <td>1</td>\n",
              "      <td>0</td>\n",
              "      <td>0</td>\n",
              "      <td>0</td>\n",
              "      <td>0</td>\n",
              "    </tr>\n",
              "    <tr>\n",
              "      <th>1</th>\n",
              "      <td>0</td>\n",
              "      <td>1</td>\n",
              "      <td>0</td>\n",
              "      <td>0</td>\n",
              "      <td>0</td>\n",
              "      <td>0</td>\n",
              "      <td>0</td>\n",
              "      <td>0</td>\n",
              "      <td>0</td>\n",
              "      <td>0</td>\n",
              "      <td>...</td>\n",
              "      <td>0</td>\n",
              "      <td>0</td>\n",
              "      <td>0</td>\n",
              "      <td>0</td>\n",
              "      <td>0</td>\n",
              "      <td>1</td>\n",
              "      <td>0</td>\n",
              "      <td>0</td>\n",
              "      <td>0</td>\n",
              "      <td>0</td>\n",
              "    </tr>\n",
              "    <tr>\n",
              "      <th>2</th>\n",
              "      <td>0</td>\n",
              "      <td>1</td>\n",
              "      <td>0</td>\n",
              "      <td>0</td>\n",
              "      <td>0</td>\n",
              "      <td>0</td>\n",
              "      <td>0</td>\n",
              "      <td>0</td>\n",
              "      <td>0</td>\n",
              "      <td>0</td>\n",
              "      <td>...</td>\n",
              "      <td>0</td>\n",
              "      <td>0</td>\n",
              "      <td>0</td>\n",
              "      <td>0</td>\n",
              "      <td>0</td>\n",
              "      <td>1</td>\n",
              "      <td>0</td>\n",
              "      <td>0</td>\n",
              "      <td>0</td>\n",
              "      <td>0</td>\n",
              "    </tr>\n",
              "    <tr>\n",
              "      <th>3</th>\n",
              "      <td>0</td>\n",
              "      <td>1</td>\n",
              "      <td>0</td>\n",
              "      <td>0</td>\n",
              "      <td>0</td>\n",
              "      <td>0</td>\n",
              "      <td>0</td>\n",
              "      <td>0</td>\n",
              "      <td>0</td>\n",
              "      <td>0</td>\n",
              "      <td>...</td>\n",
              "      <td>0</td>\n",
              "      <td>0</td>\n",
              "      <td>0</td>\n",
              "      <td>0</td>\n",
              "      <td>0</td>\n",
              "      <td>0</td>\n",
              "      <td>0</td>\n",
              "      <td>0</td>\n",
              "      <td>1</td>\n",
              "      <td>0</td>\n",
              "    </tr>\n",
              "    <tr>\n",
              "      <th>4</th>\n",
              "      <td>0</td>\n",
              "      <td>1</td>\n",
              "      <td>0</td>\n",
              "      <td>0</td>\n",
              "      <td>0</td>\n",
              "      <td>0</td>\n",
              "      <td>0</td>\n",
              "      <td>0</td>\n",
              "      <td>0</td>\n",
              "      <td>0</td>\n",
              "      <td>...</td>\n",
              "      <td>0</td>\n",
              "      <td>0</td>\n",
              "      <td>0</td>\n",
              "      <td>0</td>\n",
              "      <td>0</td>\n",
              "      <td>1</td>\n",
              "      <td>0</td>\n",
              "      <td>0</td>\n",
              "      <td>0</td>\n",
              "      <td>0</td>\n",
              "    </tr>\n",
              "  </tbody>\n",
              "</table>\n",
              "<p>5 rows × 40 columns</p>\n",
              "</div>"
            ],
            "text/plain": [
              "   Category_1.9  Category_ART_AND_DESIGN  Category_AUTO_AND_VEHICLES  \\\n",
              "0             0                        1                           0   \n",
              "1             0                        1                           0   \n",
              "2             0                        1                           0   \n",
              "3             0                        1                           0   \n",
              "4             0                        1                           0   \n",
              "\n",
              "   Category_BEAUTY  Category_BOOKS_AND_REFERENCE  Category_BUSINESS  \\\n",
              "0                0                             0                  0   \n",
              "1                0                             0                  0   \n",
              "2                0                             0                  0   \n",
              "3                0                             0                  0   \n",
              "4                0                             0                  0   \n",
              "\n",
              "   Category_COMICS  Category_COMMUNICATION  Category_DATING  \\\n",
              "0                0                       0                0   \n",
              "1                0                       0                0   \n",
              "2                0                       0                0   \n",
              "3                0                       0                0   \n",
              "4                0                       0                0   \n",
              "\n",
              "   Category_EDUCATION           ...            Category_TOOLS  \\\n",
              "0                   0           ...                         0   \n",
              "1                   0           ...                         0   \n",
              "2                   0           ...                         0   \n",
              "3                   0           ...                         0   \n",
              "4                   0           ...                         0   \n",
              "\n",
              "   Category_TRAVEL_AND_LOCAL  Category_VIDEO_PLAYERS  Category_WEATHER  \\\n",
              "0                          0                       0                 0   \n",
              "1                          0                       0                 0   \n",
              "2                          0                       0                 0   \n",
              "3                          0                       0                 0   \n",
              "4                          0                       0                 0   \n",
              "\n",
              "   Content Rating_Adults only 18+  Content Rating_Everyone  \\\n",
              "0                               0                        1   \n",
              "1                               0                        1   \n",
              "2                               0                        1   \n",
              "3                               0                        0   \n",
              "4                               0                        1   \n",
              "\n",
              "   Content Rating_Everyone 10+  Content Rating_Mature 17+  \\\n",
              "0                            0                          0   \n",
              "1                            0                          0   \n",
              "2                            0                          0   \n",
              "3                            0                          0   \n",
              "4                            0                          0   \n",
              "\n",
              "   Content Rating_Teen  Content Rating_Unrated  \n",
              "0                    0                       0  \n",
              "1                    0                       0  \n",
              "2                    0                       0  \n",
              "3                    1                       0  \n",
              "4                    0                       0  \n",
              "\n",
              "[5 rows x 40 columns]"
            ]
          },
          "execution_count": 21,
          "metadata": {},
          "output_type": "execute_result"
        }
      ],
      "source": [
        "data_nonbinary = pd.get_dummies(data[nonbinary_columns])\n",
        "print(data_nonbinary.columns)\n",
        "data_nonbinary.head()"
      ]
    },
    {
      "cell_type": "markdown",
      "metadata": {
        "id": "LffJ7ZoQg3jh"
      },
      "source": [
        "## Нормализация"
      ]
    },
    {
      "cell_type": "code",
      "execution_count": null,
      "metadata": {
        "id": "v0ejzUzWg3ji",
        "outputId": "bb643dd1-312a-487c-97f0-418a1055d162"
      },
      "outputs": [
        {
          "data": {
            "text/html": [
              "<div>\n",
              "<style scoped>\n",
              "    .dataframe tbody tr th:only-of-type {\n",
              "        vertical-align: middle;\n",
              "    }\n",
              "\n",
              "    .dataframe tbody tr th {\n",
              "        vertical-align: top;\n",
              "    }\n",
              "\n",
              "    .dataframe thead th {\n",
              "        text-align: right;\n",
              "    }\n",
              "</style>\n",
              "<table border=\"1\" class=\"dataframe\">\n",
              "  <thead>\n",
              "    <tr style=\"text-align: right;\">\n",
              "      <th></th>\n",
              "      <th>Rating</th>\n",
              "      <th>Reviews</th>\n",
              "      <th>Size</th>\n",
              "      <th>Installs</th>\n",
              "      <th>Price</th>\n",
              "    </tr>\n",
              "  </thead>\n",
              "  <tbody>\n",
              "    <tr>\n",
              "      <th>count</th>\n",
              "      <td>10841.000000</td>\n",
              "      <td>1.084100e+04</td>\n",
              "      <td>10841.000000</td>\n",
              "      <td>1.084100e+04</td>\n",
              "      <td>10841.000000</td>\n",
              "    </tr>\n",
              "    <tr>\n",
              "      <th>mean</th>\n",
              "      <td>3.809427</td>\n",
              "      <td>4.441121e+05</td>\n",
              "      <td>33.437045</td>\n",
              "      <td>1.546292e+07</td>\n",
              "      <td>1.027273</td>\n",
              "    </tr>\n",
              "    <tr>\n",
              "      <th>std</th>\n",
              "      <td>0.527848</td>\n",
              "      <td>2.927629e+06</td>\n",
              "      <td>91.210047</td>\n",
              "      <td>8.502557e+07</td>\n",
              "      <td>15.948971</td>\n",
              "    </tr>\n",
              "    <tr>\n",
              "      <th>min</th>\n",
              "      <td>1.000000</td>\n",
              "      <td>0.000000e+00</td>\n",
              "      <td>1.000000</td>\n",
              "      <td>0.000000e+00</td>\n",
              "      <td>0.000000</td>\n",
              "    </tr>\n",
              "    <tr>\n",
              "      <th>25%</th>\n",
              "      <td>4.000000</td>\n",
              "      <td>3.800000e+01</td>\n",
              "      <td>6.000000</td>\n",
              "      <td>1.000000e+03</td>\n",
              "      <td>0.000000</td>\n",
              "    </tr>\n",
              "    <tr>\n",
              "      <th>50%</th>\n",
              "      <td>4.000000</td>\n",
              "      <td>2.094000e+03</td>\n",
              "      <td>15.000000</td>\n",
              "      <td>1.000000e+05</td>\n",
              "      <td>0.000000</td>\n",
              "    </tr>\n",
              "    <tr>\n",
              "      <th>75%</th>\n",
              "      <td>4.000000</td>\n",
              "      <td>5.476800e+04</td>\n",
              "      <td>28.000000</td>\n",
              "      <td>5.000000e+06</td>\n",
              "      <td>0.000000</td>\n",
              "    </tr>\n",
              "    <tr>\n",
              "      <th>max</th>\n",
              "      <td>5.000000</td>\n",
              "      <td>7.815831e+07</td>\n",
              "      <td>1020.000000</td>\n",
              "      <td>1.000000e+09</td>\n",
              "      <td>400.000000</td>\n",
              "    </tr>\n",
              "  </tbody>\n",
              "</table>\n",
              "</div>"
            ],
            "text/plain": [
              "             Rating       Reviews          Size      Installs         Price\n",
              "count  10841.000000  1.084100e+04  10841.000000  1.084100e+04  10841.000000\n",
              "mean       3.809427  4.441121e+05     33.437045  1.546292e+07      1.027273\n",
              "std        0.527848  2.927629e+06     91.210047  8.502557e+07     15.948971\n",
              "min        1.000000  0.000000e+00      1.000000  0.000000e+00      0.000000\n",
              "25%        4.000000  3.800000e+01      6.000000  1.000000e+03      0.000000\n",
              "50%        4.000000  2.094000e+03     15.000000  1.000000e+05      0.000000\n",
              "75%        4.000000  5.476800e+04     28.000000  5.000000e+06      0.000000\n",
              "max        5.000000  7.815831e+07   1020.000000  1.000000e+09    400.000000"
            ]
          },
          "execution_count": 22,
          "metadata": {},
          "output_type": "execute_result"
        }
      ],
      "source": [
        "data['Reviews'] = data['Reviews'].astype(int)\n",
        "data['Size'] = data['Size'].astype(int)\n",
        "data['Installs'] = data['Installs'].astype(int)\n",
        "\n",
        "data_numerical = data[numerical_columns]\n",
        "data_numerical.describe()"
      ]
    },
    {
      "cell_type": "markdown",
      "metadata": {
        "id": "p2qFG94Ug3jj"
      },
      "source": [
        "Нормируем все столбцы, кроме Rating."
      ]
    },
    {
      "cell_type": "code",
      "execution_count": null,
      "metadata": {
        "id": "gkt8I_GIg3jj",
        "outputId": "4aaa9cbf-12b0-4ce6-c7da-b8b3b1eabd46"
      },
      "outputs": [
        {
          "data": {
            "text/html": [
              "<div>\n",
              "<style scoped>\n",
              "    .dataframe tbody tr th:only-of-type {\n",
              "        vertical-align: middle;\n",
              "    }\n",
              "\n",
              "    .dataframe tbody tr th {\n",
              "        vertical-align: top;\n",
              "    }\n",
              "\n",
              "    .dataframe thead th {\n",
              "        text-align: right;\n",
              "    }\n",
              "</style>\n",
              "<table border=\"1\" class=\"dataframe\">\n",
              "  <thead>\n",
              "    <tr style=\"text-align: right;\">\n",
              "      <th></th>\n",
              "      <th>Reviews</th>\n",
              "      <th>Size</th>\n",
              "      <th>Installs</th>\n",
              "      <th>Price</th>\n",
              "      <th>Rating</th>\n",
              "    </tr>\n",
              "  </thead>\n",
              "  <tbody>\n",
              "    <tr>\n",
              "      <th>count</th>\n",
              "      <td>1.084100e+04</td>\n",
              "      <td>1.084100e+04</td>\n",
              "      <td>1.084100e+04</td>\n",
              "      <td>1.084100e+04</td>\n",
              "      <td>10841.000000</td>\n",
              "    </tr>\n",
              "    <tr>\n",
              "      <th>mean</th>\n",
              "      <td>-2.514682e-16</td>\n",
              "      <td>-1.639563e-15</td>\n",
              "      <td>5.034510e-16</td>\n",
              "      <td>-9.792846e-16</td>\n",
              "      <td>3.809427</td>\n",
              "    </tr>\n",
              "    <tr>\n",
              "      <th>std</th>\n",
              "      <td>1.000000e+00</td>\n",
              "      <td>1.000000e+00</td>\n",
              "      <td>1.000000e+00</td>\n",
              "      <td>1.000000e+00</td>\n",
              "      <td>0.527848</td>\n",
              "    </tr>\n",
              "    <tr>\n",
              "      <th>min</th>\n",
              "      <td>-1.516969e-01</td>\n",
              "      <td>-3.556302e-01</td>\n",
              "      <td>-1.818620e-01</td>\n",
              "      <td>-6.441001e-02</td>\n",
              "      <td>1.000000</td>\n",
              "    </tr>\n",
              "    <tr>\n",
              "      <th>25%</th>\n",
              "      <td>-1.516839e-01</td>\n",
              "      <td>-3.008116e-01</td>\n",
              "      <td>-1.818503e-01</td>\n",
              "      <td>-6.441001e-02</td>\n",
              "      <td>4.000000</td>\n",
              "    </tr>\n",
              "    <tr>\n",
              "      <th>50%</th>\n",
              "      <td>-1.509816e-01</td>\n",
              "      <td>-2.021383e-01</td>\n",
              "      <td>-1.806859e-01</td>\n",
              "      <td>-6.441001e-02</td>\n",
              "      <td>4.000000</td>\n",
              "    </tr>\n",
              "    <tr>\n",
              "      <th>75%</th>\n",
              "      <td>-1.329896e-01</td>\n",
              "      <td>-5.961015e-02</td>\n",
              "      <td>-1.230562e-01</td>\n",
              "      <td>-6.441001e-02</td>\n",
              "      <td>4.000000</td>\n",
              "    </tr>\n",
              "    <tr>\n",
              "      <th>max</th>\n",
              "      <td>2.654510e+01</td>\n",
              "      <td>1.081638e+01</td>\n",
              "      <td>1.157931e+01</td>\n",
              "      <td>2.501558e+01</td>\n",
              "      <td>5.000000</td>\n",
              "    </tr>\n",
              "  </tbody>\n",
              "</table>\n",
              "</div>"
            ],
            "text/plain": [
              "            Reviews          Size      Installs         Price        Rating\n",
              "count  1.084100e+04  1.084100e+04  1.084100e+04  1.084100e+04  10841.000000\n",
              "mean  -2.514682e-16 -1.639563e-15  5.034510e-16 -9.792846e-16      3.809427\n",
              "std    1.000000e+00  1.000000e+00  1.000000e+00  1.000000e+00      0.527848\n",
              "min   -1.516969e-01 -3.556302e-01 -1.818620e-01 -6.441001e-02      1.000000\n",
              "25%   -1.516839e-01 -3.008116e-01 -1.818503e-01 -6.441001e-02      4.000000\n",
              "50%   -1.509816e-01 -2.021383e-01 -1.806859e-01 -6.441001e-02      4.000000\n",
              "75%   -1.329896e-01 -5.961015e-02 -1.230562e-01 -6.441001e-02      4.000000\n",
              "max    2.654510e+01  1.081638e+01  1.157931e+01  2.501558e+01      5.000000"
            ]
          },
          "execution_count": 23,
          "metadata": {},
          "output_type": "execute_result"
        }
      ],
      "source": [
        "Rating = data_numerical['Rating']\n",
        "data_numerical = data_numerical.drop('Rating', 1)\n",
        "data_numerical = (data_numerical - data_numerical.mean(axis = 0))/data_numerical.std(axis = 0)\n",
        "data_numerical = data_numerical.assign(Rating=Rating.values)\n",
        "data_numerical.describe()"
      ]
    },
    {
      "cell_type": "markdown",
      "metadata": {
        "id": "UsF3KvRXg3jl"
      },
      "source": [
        "Запишем все в таблицу"
      ]
    },
    {
      "cell_type": "code",
      "execution_count": null,
      "metadata": {
        "id": "LkazmNcxg3jm",
        "outputId": "3af13b13-8dac-4120-d6b4-4c5377fd051b"
      },
      "outputs": [
        {
          "name": "stdout",
          "output_type": "stream",
          "text": [
            "(10841, 45)\n"
          ]
        },
        {
          "data": {
            "text/html": [
              "<div>\n",
              "<style scoped>\n",
              "    .dataframe tbody tr th:only-of-type {\n",
              "        vertical-align: middle;\n",
              "    }\n",
              "\n",
              "    .dataframe tbody tr th {\n",
              "        vertical-align: top;\n",
              "    }\n",
              "\n",
              "    .dataframe thead th {\n",
              "        text-align: right;\n",
              "    }\n",
              "</style>\n",
              "<table border=\"1\" class=\"dataframe\">\n",
              "  <thead>\n",
              "    <tr style=\"text-align: right;\">\n",
              "      <th></th>\n",
              "      <th>Reviews</th>\n",
              "      <th>Size</th>\n",
              "      <th>Installs</th>\n",
              "      <th>Price</th>\n",
              "      <th>Rating</th>\n",
              "      <th>Category_1.9</th>\n",
              "      <th>Category_ART_AND_DESIGN</th>\n",
              "      <th>Category_AUTO_AND_VEHICLES</th>\n",
              "      <th>Category_BEAUTY</th>\n",
              "      <th>Category_BOOKS_AND_REFERENCE</th>\n",
              "      <th>...</th>\n",
              "      <th>Category_TOOLS</th>\n",
              "      <th>Category_TRAVEL_AND_LOCAL</th>\n",
              "      <th>Category_VIDEO_PLAYERS</th>\n",
              "      <th>Category_WEATHER</th>\n",
              "      <th>Content Rating_Adults only 18+</th>\n",
              "      <th>Content Rating_Everyone</th>\n",
              "      <th>Content Rating_Everyone 10+</th>\n",
              "      <th>Content Rating_Mature 17+</th>\n",
              "      <th>Content Rating_Teen</th>\n",
              "      <th>Content Rating_Unrated</th>\n",
              "    </tr>\n",
              "  </thead>\n",
              "  <tbody>\n",
              "    <tr>\n",
              "      <th>count</th>\n",
              "      <td>1.084100e+04</td>\n",
              "      <td>1.084100e+04</td>\n",
              "      <td>1.084100e+04</td>\n",
              "      <td>1.084100e+04</td>\n",
              "      <td>10841.000000</td>\n",
              "      <td>10841.000000</td>\n",
              "      <td>10841.000000</td>\n",
              "      <td>10841.000000</td>\n",
              "      <td>10841.000000</td>\n",
              "      <td>10841.000000</td>\n",
              "      <td>...</td>\n",
              "      <td>10841.000000</td>\n",
              "      <td>10841.000000</td>\n",
              "      <td>10841.000000</td>\n",
              "      <td>10841.000000</td>\n",
              "      <td>10841.000000</td>\n",
              "      <td>10841.000000</td>\n",
              "      <td>10841.000000</td>\n",
              "      <td>10841.000000</td>\n",
              "      <td>10841.000000</td>\n",
              "      <td>10841.000000</td>\n",
              "    </tr>\n",
              "    <tr>\n",
              "      <th>mean</th>\n",
              "      <td>-2.514682e-16</td>\n",
              "      <td>-1.639563e-15</td>\n",
              "      <td>5.034510e-16</td>\n",
              "      <td>-9.792846e-16</td>\n",
              "      <td>3.809427</td>\n",
              "      <td>0.000092</td>\n",
              "      <td>0.005996</td>\n",
              "      <td>0.007841</td>\n",
              "      <td>0.004889</td>\n",
              "      <td>0.021308</td>\n",
              "      <td>...</td>\n",
              "      <td>0.077760</td>\n",
              "      <td>0.023799</td>\n",
              "      <td>0.016142</td>\n",
              "      <td>0.007564</td>\n",
              "      <td>0.000277</td>\n",
              "      <td>0.803893</td>\n",
              "      <td>0.038188</td>\n",
              "      <td>0.046029</td>\n",
              "      <td>0.111429</td>\n",
              "      <td>0.000184</td>\n",
              "    </tr>\n",
              "    <tr>\n",
              "      <th>std</th>\n",
              "      <td>1.000000e+00</td>\n",
              "      <td>1.000000e+00</td>\n",
              "      <td>1.000000e+00</td>\n",
              "      <td>1.000000e+00</td>\n",
              "      <td>0.527848</td>\n",
              "      <td>0.009604</td>\n",
              "      <td>0.077203</td>\n",
              "      <td>0.088203</td>\n",
              "      <td>0.069752</td>\n",
              "      <td>0.144416</td>\n",
              "      <td>...</td>\n",
              "      <td>0.267806</td>\n",
              "      <td>0.152428</td>\n",
              "      <td>0.126029</td>\n",
              "      <td>0.086645</td>\n",
              "      <td>0.016634</td>\n",
              "      <td>0.397069</td>\n",
              "      <td>0.191660</td>\n",
              "      <td>0.209558</td>\n",
              "      <td>0.314677</td>\n",
              "      <td>0.013582</td>\n",
              "    </tr>\n",
              "    <tr>\n",
              "      <th>min</th>\n",
              "      <td>-1.516969e-01</td>\n",
              "      <td>-3.556302e-01</td>\n",
              "      <td>-1.818620e-01</td>\n",
              "      <td>-6.441001e-02</td>\n",
              "      <td>1.000000</td>\n",
              "      <td>0.000000</td>\n",
              "      <td>0.000000</td>\n",
              "      <td>0.000000</td>\n",
              "      <td>0.000000</td>\n",
              "      <td>0.000000</td>\n",
              "      <td>...</td>\n",
              "      <td>0.000000</td>\n",
              "      <td>0.000000</td>\n",
              "      <td>0.000000</td>\n",
              "      <td>0.000000</td>\n",
              "      <td>0.000000</td>\n",
              "      <td>0.000000</td>\n",
              "      <td>0.000000</td>\n",
              "      <td>0.000000</td>\n",
              "      <td>0.000000</td>\n",
              "      <td>0.000000</td>\n",
              "    </tr>\n",
              "    <tr>\n",
              "      <th>25%</th>\n",
              "      <td>-1.516839e-01</td>\n",
              "      <td>-3.008116e-01</td>\n",
              "      <td>-1.818503e-01</td>\n",
              "      <td>-6.441001e-02</td>\n",
              "      <td>4.000000</td>\n",
              "      <td>0.000000</td>\n",
              "      <td>0.000000</td>\n",
              "      <td>0.000000</td>\n",
              "      <td>0.000000</td>\n",
              "      <td>0.000000</td>\n",
              "      <td>...</td>\n",
              "      <td>0.000000</td>\n",
              "      <td>0.000000</td>\n",
              "      <td>0.000000</td>\n",
              "      <td>0.000000</td>\n",
              "      <td>0.000000</td>\n",
              "      <td>1.000000</td>\n",
              "      <td>0.000000</td>\n",
              "      <td>0.000000</td>\n",
              "      <td>0.000000</td>\n",
              "      <td>0.000000</td>\n",
              "    </tr>\n",
              "    <tr>\n",
              "      <th>50%</th>\n",
              "      <td>-1.509816e-01</td>\n",
              "      <td>-2.021383e-01</td>\n",
              "      <td>-1.806859e-01</td>\n",
              "      <td>-6.441001e-02</td>\n",
              "      <td>4.000000</td>\n",
              "      <td>0.000000</td>\n",
              "      <td>0.000000</td>\n",
              "      <td>0.000000</td>\n",
              "      <td>0.000000</td>\n",
              "      <td>0.000000</td>\n",
              "      <td>...</td>\n",
              "      <td>0.000000</td>\n",
              "      <td>0.000000</td>\n",
              "      <td>0.000000</td>\n",
              "      <td>0.000000</td>\n",
              "      <td>0.000000</td>\n",
              "      <td>1.000000</td>\n",
              "      <td>0.000000</td>\n",
              "      <td>0.000000</td>\n",
              "      <td>0.000000</td>\n",
              "      <td>0.000000</td>\n",
              "    </tr>\n",
              "    <tr>\n",
              "      <th>75%</th>\n",
              "      <td>-1.329896e-01</td>\n",
              "      <td>-5.961015e-02</td>\n",
              "      <td>-1.230562e-01</td>\n",
              "      <td>-6.441001e-02</td>\n",
              "      <td>4.000000</td>\n",
              "      <td>0.000000</td>\n",
              "      <td>0.000000</td>\n",
              "      <td>0.000000</td>\n",
              "      <td>0.000000</td>\n",
              "      <td>0.000000</td>\n",
              "      <td>...</td>\n",
              "      <td>0.000000</td>\n",
              "      <td>0.000000</td>\n",
              "      <td>0.000000</td>\n",
              "      <td>0.000000</td>\n",
              "      <td>0.000000</td>\n",
              "      <td>1.000000</td>\n",
              "      <td>0.000000</td>\n",
              "      <td>0.000000</td>\n",
              "      <td>0.000000</td>\n",
              "      <td>0.000000</td>\n",
              "    </tr>\n",
              "    <tr>\n",
              "      <th>max</th>\n",
              "      <td>2.654510e+01</td>\n",
              "      <td>1.081638e+01</td>\n",
              "      <td>1.157931e+01</td>\n",
              "      <td>2.501558e+01</td>\n",
              "      <td>5.000000</td>\n",
              "      <td>1.000000</td>\n",
              "      <td>1.000000</td>\n",
              "      <td>1.000000</td>\n",
              "      <td>1.000000</td>\n",
              "      <td>1.000000</td>\n",
              "      <td>...</td>\n",
              "      <td>1.000000</td>\n",
              "      <td>1.000000</td>\n",
              "      <td>1.000000</td>\n",
              "      <td>1.000000</td>\n",
              "      <td>1.000000</td>\n",
              "      <td>1.000000</td>\n",
              "      <td>1.000000</td>\n",
              "      <td>1.000000</td>\n",
              "      <td>1.000000</td>\n",
              "      <td>1.000000</td>\n",
              "    </tr>\n",
              "  </tbody>\n",
              "</table>\n",
              "<p>8 rows × 45 columns</p>\n",
              "</div>"
            ],
            "text/plain": [
              "            Reviews          Size      Installs         Price        Rating  \\\n",
              "count  1.084100e+04  1.084100e+04  1.084100e+04  1.084100e+04  10841.000000   \n",
              "mean  -2.514682e-16 -1.639563e-15  5.034510e-16 -9.792846e-16      3.809427   \n",
              "std    1.000000e+00  1.000000e+00  1.000000e+00  1.000000e+00      0.527848   \n",
              "min   -1.516969e-01 -3.556302e-01 -1.818620e-01 -6.441001e-02      1.000000   \n",
              "25%   -1.516839e-01 -3.008116e-01 -1.818503e-01 -6.441001e-02      4.000000   \n",
              "50%   -1.509816e-01 -2.021383e-01 -1.806859e-01 -6.441001e-02      4.000000   \n",
              "75%   -1.329896e-01 -5.961015e-02 -1.230562e-01 -6.441001e-02      4.000000   \n",
              "max    2.654510e+01  1.081638e+01  1.157931e+01  2.501558e+01      5.000000   \n",
              "\n",
              "       Category_1.9  Category_ART_AND_DESIGN  Category_AUTO_AND_VEHICLES  \\\n",
              "count  10841.000000             10841.000000                10841.000000   \n",
              "mean       0.000092                 0.005996                    0.007841   \n",
              "std        0.009604                 0.077203                    0.088203   \n",
              "min        0.000000                 0.000000                    0.000000   \n",
              "25%        0.000000                 0.000000                    0.000000   \n",
              "50%        0.000000                 0.000000                    0.000000   \n",
              "75%        0.000000                 0.000000                    0.000000   \n",
              "max        1.000000                 1.000000                    1.000000   \n",
              "\n",
              "       Category_BEAUTY  Category_BOOKS_AND_REFERENCE           ...            \\\n",
              "count     10841.000000                  10841.000000           ...             \n",
              "mean          0.004889                      0.021308           ...             \n",
              "std           0.069752                      0.144416           ...             \n",
              "min           0.000000                      0.000000           ...             \n",
              "25%           0.000000                      0.000000           ...             \n",
              "50%           0.000000                      0.000000           ...             \n",
              "75%           0.000000                      0.000000           ...             \n",
              "max           1.000000                      1.000000           ...             \n",
              "\n",
              "       Category_TOOLS  Category_TRAVEL_AND_LOCAL  Category_VIDEO_PLAYERS  \\\n",
              "count    10841.000000               10841.000000            10841.000000   \n",
              "mean         0.077760                   0.023799                0.016142   \n",
              "std          0.267806                   0.152428                0.126029   \n",
              "min          0.000000                   0.000000                0.000000   \n",
              "25%          0.000000                   0.000000                0.000000   \n",
              "50%          0.000000                   0.000000                0.000000   \n",
              "75%          0.000000                   0.000000                0.000000   \n",
              "max          1.000000                   1.000000                1.000000   \n",
              "\n",
              "       Category_WEATHER  Content Rating_Adults only 18+  \\\n",
              "count      10841.000000                    10841.000000   \n",
              "mean           0.007564                        0.000277   \n",
              "std            0.086645                        0.016634   \n",
              "min            0.000000                        0.000000   \n",
              "25%            0.000000                        0.000000   \n",
              "50%            0.000000                        0.000000   \n",
              "75%            0.000000                        0.000000   \n",
              "max            1.000000                        1.000000   \n",
              "\n",
              "       Content Rating_Everyone  Content Rating_Everyone 10+  \\\n",
              "count             10841.000000                 10841.000000   \n",
              "mean                  0.803893                     0.038188   \n",
              "std                   0.397069                     0.191660   \n",
              "min                   0.000000                     0.000000   \n",
              "25%                   1.000000                     0.000000   \n",
              "50%                   1.000000                     0.000000   \n",
              "75%                   1.000000                     0.000000   \n",
              "max                   1.000000                     1.000000   \n",
              "\n",
              "       Content Rating_Mature 17+  Content Rating_Teen  Content Rating_Unrated  \n",
              "count               10841.000000         10841.000000            10841.000000  \n",
              "mean                    0.046029             0.111429                0.000184  \n",
              "std                     0.209558             0.314677                0.013582  \n",
              "min                     0.000000             0.000000                0.000000  \n",
              "25%                     0.000000             0.000000                0.000000  \n",
              "50%                     0.000000             0.000000                0.000000  \n",
              "75%                     0.000000             0.000000                0.000000  \n",
              "max                     1.000000             1.000000                1.000000  \n",
              "\n",
              "[8 rows x 45 columns]"
            ]
          },
          "execution_count": 24,
          "metadata": {},
          "output_type": "execute_result"
        }
      ],
      "source": [
        "data = pd.concat((data_numerical, data_nonbinary, data[binary_columns]), axis = 1)\n",
        "print(data.shape)\n",
        "data.describe()"
      ]
    },
    {
      "cell_type": "code",
      "execution_count": null,
      "metadata": {
        "id": "kPb8RYlOg3jn",
        "outputId": "410ebbd6-df3b-41da-9ee2-2450a5fc4fd5"
      },
      "outputs": [
        {
          "data": {
            "text/plain": [
              "Index(['Reviews', 'Size', 'Installs', 'Price', 'Category_1.9',\n",
              "       'Category_ART_AND_DESIGN', 'Category_AUTO_AND_VEHICLES',\n",
              "       'Category_BEAUTY', 'Category_BOOKS_AND_REFERENCE', 'Category_BUSINESS',\n",
              "       'Category_COMICS', 'Category_COMMUNICATION', 'Category_DATING',\n",
              "       'Category_EDUCATION', 'Category_ENTERTAINMENT', 'Category_EVENTS',\n",
              "       'Category_FAMILY', 'Category_FINANCE', 'Category_FOOD_AND_DRINK',\n",
              "       'Category_GAME', 'Category_HEALTH_AND_FITNESS',\n",
              "       'Category_HOUSE_AND_HOME', 'Category_LIBRARIES_AND_DEMO',\n",
              "       'Category_LIFESTYLE', 'Category_MAPS_AND_NAVIGATION',\n",
              "       'Category_MEDICAL', 'Category_NEWS_AND_MAGAZINES', 'Category_PARENTING',\n",
              "       'Category_PERSONALIZATION', 'Category_PHOTOGRAPHY',\n",
              "       'Category_PRODUCTIVITY', 'Category_SHOPPING', 'Category_SOCIAL',\n",
              "       'Category_SPORTS', 'Category_TOOLS', 'Category_TRAVEL_AND_LOCAL',\n",
              "       'Category_VIDEO_PLAYERS', 'Category_WEATHER',\n",
              "       'Content Rating_Adults only 18+', 'Content Rating_Everyone',\n",
              "       'Content Rating_Everyone 10+', 'Content Rating_Mature 17+',\n",
              "       'Content Rating_Teen', 'Content Rating_Unrated'],\n",
              "      dtype='object')"
            ]
          },
          "execution_count": 25,
          "metadata": {},
          "output_type": "execute_result"
        }
      ],
      "source": [
        "X = data.drop(('Rating'), axis = 1) # выбрасываем столбец 'Rating'\n",
        "y = data['Rating']\n",
        "feature_names = X.columns\n",
        "feature_names"
      ]
    },
    {
      "cell_type": "markdown",
      "metadata": {
        "id": "Rhzg-WN1g3jo"
      },
      "source": [
        "## Обучающая и тестовая выборка\n",
        "Данные готовы, создадим выборки."
      ]
    },
    {
      "cell_type": "code",
      "execution_count": null,
      "metadata": {
        "id": "pLAvjWwLg3jp",
        "outputId": "b12f2c48-a642-467c-e279-3847bb440a2f"
      },
      "outputs": [
        {
          "name": "stdout",
          "output_type": "stream",
          "text": [
            "(10841, 44)\n",
            "(10841,)\n"
          ]
        }
      ],
      "source": [
        "print(X.shape)\n",
        "print(y.shape)\n",
        "N, d = X.shape"
      ]
    },
    {
      "cell_type": "code",
      "execution_count": null,
      "metadata": {
        "id": "SrsqiW6zg3jq",
        "outputId": "840d741e-60fb-4aba-a28f-93b0fcfbb047"
      },
      "outputs": [
        {
          "name": "stdout",
          "output_type": "stream",
          "text": [
            "7588 3253\n"
          ]
        }
      ],
      "source": [
        "from sklearn.model_selection import train_test_split\n",
        "X_train, X_test, y_train, y_test = train_test_split(X, y, test_size = 0.3, random_state = 42)\n",
        "\n",
        "N_train, _ = X_train.shape\n",
        "N_test,  _ = X_test.shape\n",
        "\n",
        "print(N_train, N_test)"
      ]
    },
    {
      "cell_type": "code",
      "execution_count": null,
      "metadata": {
        "id": "vX09LG_ag3js",
        "outputId": "21369b22-b0f6-4682-b47e-ed5668261539"
      },
      "outputs": [
        {
          "data": {
            "text/plain": [
              "10841"
            ]
          },
          "execution_count": 28,
          "metadata": {},
          "output_type": "execute_result"
        }
      ],
      "source": [
        "N_train+N_test"
      ]
    },
    {
      "cell_type": "markdown",
      "metadata": {
        "id": "ikW-ahzJg3jt"
      },
      "source": [
        "## Метод ближайших соседей\n",
        "Попробуем метод ближайших соседей."
      ]
    },
    {
      "cell_type": "code",
      "execution_count": null,
      "metadata": {
        "id": "q5HxGypWg3ju",
        "outputId": "075d574d-d4ec-4c34-ea4e-2c5d6c8f2d02"
      },
      "outputs": [
        {
          "name": "stdout",
          "output_type": "stream",
          "text": [
            "0.18779652082235107 0.2446972025822318\n"
          ]
        }
      ],
      "source": [
        "from sklearn.neighbors import KNeighborsClassifier\n",
        "\n",
        "knn = KNeighborsClassifier(n_neighbors = 5)\n",
        "#knn.set_params(n_neighbors=10)\n",
        "knn.fit(X_train, y_train)\n",
        "\n",
        "y_train_predict = knn.predict(X_train)\n",
        "y_test_predict = knn.predict(X_test)\n",
        "\n",
        "err_train = np.mean(y_train != y_train_predict)\n",
        "err_test  = np.mean(y_test  != y_test_predict)\n",
        "\n",
        "print(err_train, err_test)"
      ]
    },
    {
      "cell_type": "markdown",
      "metadata": {
        "id": "QIk_Gg-xg3jv"
      },
      "source": [
        "Возникло переобучение. Ошибка на тестовой выборке больше, чем на обучающей.\n",
        "\n",
        "Попробуем подобрать параметры."
      ]
    },
    {
      "cell_type": "code",
      "execution_count": null,
      "metadata": {
        "id": "xvXrhMuPg3jw",
        "outputId": "ac442092-2e4a-4ea6-fe8a-95fd3301cde3"
      },
      "outputs": [
        {
          "name": "stdout",
          "output_type": "stream",
          "text": [
            "0.21033210332103325 45\n"
          ]
        }
      ],
      "source": [
        "from sklearn.model_selection import GridSearchCV\n",
        "nnb = [1, 3, 5, 10, 15, 20, 25, 35, 45, 55]\n",
        "knn = KNeighborsClassifier()\n",
        "grid = GridSearchCV(knn, param_grid = {'n_neighbors': nnb}, cv=10)\n",
        "grid.fit(X_train, y_train)\n",
        "\n",
        "best_cv_err = 1 - grid.best_score_\n",
        "best_n_neighbors = grid.best_estimator_.n_neighbors\n",
        "print(best_cv_err, best_n_neighbors)\n"
      ]
    },
    {
      "cell_type": "code",
      "execution_count": null,
      "metadata": {
        "id": "50Z3yGXqg3jx",
        "outputId": "8af7689d-ef25-4791-dd3f-5f5e0200caf3"
      },
      "outputs": [
        {
          "name": "stdout",
          "output_type": "stream",
          "text": [
            "0.21020031628887717 0.20811558561328006\n"
          ]
        }
      ],
      "source": [
        "knn = KNeighborsClassifier(n_neighbors = best_n_neighbors).fit(X_train, y_train)\n",
        "\n",
        "err_train = np.mean(y_train != knn.predict(X_train))\n",
        "err_test  = np.mean(y_test  != knn.predict(X_test))\n",
        "\n",
        "print(err_train, err_test)"
      ]
    },
    {
      "cell_type": "markdown",
      "metadata": {
        "id": "vt6XQy8kg3jy"
      },
      "source": [
        "Получили немного более точный ответ при k = 45. Ошибки на тестовой и обучающей выборке примерно совпадают. Переобучения нет."
      ]
    },
    {
      "cell_type": "markdown",
      "metadata": {
        "id": "3GgyChBng3jz"
      },
      "source": [
        "## Метод Random Forest"
      ]
    },
    {
      "cell_type": "code",
      "execution_count": null,
      "metadata": {
        "id": "fTGRjKQcg3jz",
        "outputId": "da224804-be3f-4c15-fba3-722ed2fde373"
      },
      "outputs": [
        {
          "name": "stdout",
          "output_type": "stream",
          "text": [
            "0.0027675276752767526 0.21641561635413464\n"
          ]
        }
      ],
      "source": [
        "from sklearn import ensemble\n",
        "rf = ensemble.RandomForestClassifier(n_estimators = 1000)\n",
        "rf.fit(X_train, y_train)\n",
        "\n",
        "err_train = np.mean(y_train != rf.predict(X_train))\n",
        "err_test  = np.mean(y_test  != rf.predict(X_test))\n",
        "\n",
        "print(err_train, err_test)"
      ]
    },
    {
      "cell_type": "code",
      "execution_count": null,
      "metadata": {
        "id": "Ms_v-Op8g3j1",
        "outputId": "34a5b4a2-0aa7-4b4d-d97f-849a90fff198"
      },
      "outputs": [
        {
          "data": {
            "text/plain": [
              "1.0"
            ]
          },
          "execution_count": 34,
          "metadata": {},
          "output_type": "execute_result"
        }
      ],
      "source": [
        "np.sum(rf.feature_importances_)"
      ]
    },
    {
      "cell_type": "code",
      "execution_count": null,
      "metadata": {
        "scrolled": true,
        "id": "-WzkirSKg3j2",
        "outputId": "5d7d526c-0842-4dc2-d651-b06da336528c"
      },
      "outputs": [
        {
          "name": "stdout",
          "output_type": "stream",
          "text": [
            "Feature ranking:\n",
            " 1. feature 'Reviews' (0.396484)\n",
            " 2. feature ' Size' (0.260793)\n",
            " 3. feature 'Installs' (0.135130)\n",
            " 4. feature 'Price' (0.025491)\n",
            " 5. feature 'Category_FAMILY' (0.012003)\n",
            " 6. feature 'Content Rating_Everyone' (0.009586)\n",
            " 7. feature 'Content Rating_Teen' (0.008181)\n",
            " 8. feature 'Category_TOOLS' (0.007479)\n",
            " 9. feature 'Category_GAME' (0.007331)\n",
            "10. feature 'Category_MEDICAL' (0.007195)\n",
            "11. feature 'Category_BUSINESS' (0.007131)\n",
            "12. feature 'Category_LIFESTYLE' (0.006933)\n",
            "13. feature 'Category_COMMUNICATION' (0.006133)\n",
            "14. feature 'Category_NEWS_AND_MAGAZINES' (0.006082)\n",
            "15. feature 'Category_FINANCE' (0.005749)\n",
            "16. feature 'Category_PRODUCTIVITY' (0.005675)\n",
            "17. feature 'Content Rating_Mature 17+' (0.005550)\n",
            "18. feature 'Category_PHOTOGRAPHY' (0.005394)\n",
            "19. feature 'Category_HEALTH_AND_FITNESS' (0.005244)\n",
            "20. feature 'Category_TRAVEL_AND_LOCAL' (0.005221)\n",
            "21. feature 'Category_SOCIAL' (0.004688)\n",
            "22. feature 'Category_SPORTS' (0.004676)\n",
            "23. feature 'Category_VIDEO_PLAYERS' (0.004520)\n",
            "24. feature 'Category_PERSONALIZATION' (0.004420)\n",
            "25. feature 'Category_ENTERTAINMENT' (0.004367)\n",
            "26. feature 'Category_BOOKS_AND_REFERENCE' (0.004344)\n",
            "27. feature 'Category_SHOPPING' (0.004229)\n",
            "28. feature 'Category_FOOD_AND_DRINK' (0.004166)\n",
            "29. feature 'Content Rating_Everyone 10+' (0.004161)\n",
            "30. feature 'Category_MAPS_AND_NAVIGATION' (0.003697)\n",
            "31. feature 'Category_DATING' (0.003421)\n",
            "32. feature 'Category_COMICS' (0.003192)\n",
            "33. feature 'Category_LIBRARIES_AND_DEMO' (0.003037)\n",
            "34. feature 'Category_PARENTING' (0.002984)\n",
            "35. feature 'Category_WEATHER' (0.002639)\n",
            "36. feature 'Category_AUTO_AND_VEHICLES' (0.002598)\n",
            "37. feature 'Category_HOUSE_AND_HOME' (0.002285)\n",
            "38. feature 'Category_BEAUTY' (0.002177)\n",
            "39. feature 'Category_EDUCATION' (0.001940)\n",
            "40. feature 'Category_EVENTS' (0.001734)\n",
            "41. feature 'Category_ART_AND_DESIGN' (0.001298)\n",
            "42. feature 'Category_1.9' (0.000532)\n",
            "43. feature 'Content Rating_Unrated' (0.000068)\n",
            "44. feature 'Content Rating_Adults only 18+' (0.000041)\n"
          ]
        }
      ],
      "source": [
        "importances = rf.feature_importances_\n",
        "indices = np.argsort(importances)[::-1]\n",
        "\n",
        "print(\"Feature ranking:\")\n",
        "\n",
        "for f in range(d):\n",
        "    print(\"%2d. feature '%5s' (%f)\" % (f + 1, feature_names[indices[f]], importances[indices[f]]))"
      ]
    },
    {
      "cell_type": "code",
      "execution_count": null,
      "metadata": {
        "id": "Hx9Cksnyg3j3",
        "outputId": "519757c9-ee2f-45d7-ebb7-c1a1e5ac2667"
      },
      "outputs": [
        {
          "data": {
            "text/plain": [
              "Index(['Size', 'Reviews', 'Size'], dtype='object')"
            ]
          },
          "execution_count": 36,
          "metadata": {},
          "output_type": "execute_result"
        }
      ],
      "source": [
        "feature_names[[1,0,1]]"
      ]
    },
    {
      "cell_type": "code",
      "execution_count": null,
      "metadata": {
        "id": "nXYuJcF2g3j4",
        "outputId": "704863b4-87fa-4264-892a-6dc36c6e17a9"
      },
      "outputs": [
        {
          "data": {
            "text/plain": [
              "(-1, 20)"
            ]
          },
          "execution_count": 37,
          "metadata": {},
          "output_type": "execute_result"
        },
        {
          "data": {
            "image/png": "[encoded data removed]",
            "text/plain": [
              "<Figure size 432x288 with 1 Axes>"
            ]
          },
          "metadata": {},
          "output_type": "display_data"
        }
      ],
      "source": [
        "d_first = 20\n",
        "plt.title(\"Feature importances\")\n",
        "plt.bar(range(d_first), importances[indices[:d_first]], align = 'center', color = 'r')\n",
        "plt.xticks(range(d_first), feature_names[indices[:d_first]], rotation = 90)\n",
        "plt.xlim([-1, d_first])"
      ]
    },
    {
      "cell_type": "markdown",
      "metadata": {
        "id": "4DfD0jIJg3j5"
      },
      "source": [
        "Можно сделать вывод, что наибольший вклад в рейтинг оказывает число просмотров, размер приложения и число установок приложения.\n",
        "Ошибка на тестовой выборке в данном методе все ещё высока."
      ]
    },
    {
      "cell_type": "markdown",
      "metadata": {
        "id": "rRxtFyRVg3j6"
      },
      "source": [
        "\n",
        "Попробуем использовать сеть для решения задачи классификации.\n",
        "\n",
        "## Однослойная сеть\n",
        "\n",
        "Посмотрим на однослойную сеть, в скрытом слое которой находится 100 нейронов."
      ]
    },
    {
      "cell_type": "code",
      "execution_count": null,
      "metadata": {
        "id": "rEdlCnvSg3j7"
      },
      "outputs": [],
      "source": [
        "from sklearn.neural_network import MLPClassifier\n",
        "mlp_model = MLPClassifier(hidden_layer_sizes = (100,), solver = 'lbfgs',\n",
        "                          activation = 'logistic', random_state = 42)\n",
        "mlp_model.fit(X_train, y_train)\n",
        "\n",
        "y_train_pred = mlp_model.predict(X_train)\n",
        "y_test_pred = mlp_model.predict(X_test)"
      ]
    },
    {
      "cell_type": "markdown",
      "metadata": {
        "id": "z4OvEmNSg3j8"
      },
      "source": [
        "Ошибки на обучающей и тестовой выборке:"
      ]
    },
    {
      "cell_type": "code",
      "execution_count": null,
      "metadata": {
        "id": "AoKRyHq-g3j9",
        "outputId": "0a9eb6d5-f203-41f7-d11b-6ea404abfaae"
      },
      "outputs": [
        {
          "name": "stdout",
          "output_type": "stream",
          "text": [
            "0.20677385345282023 0.21303412234860128\n"
          ]
        }
      ],
      "source": [
        "print(np.mean(y_train != y_train_pred), np.mean(y_test != y_test_pred))"
      ]
    },
    {
      "cell_type": "markdown",
      "metadata": {
        "id": "Y0YqiYOVg3j9"
      },
      "source": [
        "Альтернативная запись:"
      ]
    },
    {
      "cell_type": "code",
      "execution_count": null,
      "metadata": {
        "id": "7NstUMYRg3j-",
        "outputId": "6147c131-43e1-4064-f97b-8c73514d800b"
      },
      "outputs": [
        {
          "name": "stdout",
          "output_type": "stream",
          "text": [
            "0.7932261465471797 0.7869658776513987\n"
          ]
        }
      ],
      "source": [
        "print(mlp_model.score(X_train, y_train), mlp_model.score(X_test, y_test))"
      ]
    },
    {
      "cell_type": "markdown",
      "metadata": {
        "id": "_cCMoY0ag3j_"
      },
      "source": [
        " Можно заметить, что ошибки близки. На тестовой выборке ошибка немного больше, чем на обучающей, следовательно переобучение небольшое есть."
      ]
    },
    {
      "cell_type": "markdown",
      "metadata": {
        "id": "kb-7e71fg3kA"
      },
      "source": [
        "## Двухслойная сеть\n",
        "Посмотрим на двухслойную сеть, в каждом скрытом слое которой находится 100 нейронов."
      ]
    },
    {
      "cell_type": "code",
      "execution_count": null,
      "metadata": {
        "id": "mFqqksVtg3kB"
      },
      "outputs": [],
      "source": [
        "mlp_model = MLPClassifier(hidden_layer_sizes = (100, 100), solver = 'lbfgs',\n",
        "                          activation = 'logistic', random_state = 42)\n",
        "mlp_model.fit(X_train, y_train)\n",
        "\n",
        "y_train_pred = mlp_model.predict(X_train)\n",
        "y_test_pred = mlp_model.predict(X_test)"
      ]
    },
    {
      "cell_type": "markdown",
      "metadata": {
        "id": "BckhFzPgg3kC"
      },
      "source": [
        "Ошибки на обучающей и тестовой выборке:"
      ]
    },
    {
      "cell_type": "code",
      "execution_count": null,
      "metadata": {
        "id": "MN09FR61g3kC",
        "outputId": "b7e11cb2-07ed-4f1f-de55-2c03f9d93f08"
      },
      "outputs": [
        {
          "name": "stdout",
          "output_type": "stream",
          "text": [
            "0.21020031628887717 0.21088226252689823\n"
          ]
        }
      ],
      "source": [
        "print(np.mean(y_train != y_train_pred), np.mean(y_test != y_test_pred))"
      ]
    },
    {
      "cell_type": "markdown",
      "metadata": {
        "id": "gNOgn0i4g3kD"
      },
      "source": [
        "Ошибки снова близки, но переобучение стало меньше.\n",
        "\n",
        "Попробуем ещё немного улучшить сеть с двумя скрытыми слоями через подбор гиперпараметров."
      ]
    },
    {
      "cell_type": "markdown",
      "metadata": {
        "id": "2SLq-An5g3kE"
      },
      "source": [
        "## Подбор гиперпараметра\n",
        "Подберем оптимальное значение параметра регуляризации alpha"
      ]
    },
    {
      "cell_type": "code",
      "execution_count": null,
      "metadata": {
        "id": "pDH0QNPAg3kF",
        "outputId": "f21cd0ed-0c55-4a02-b3f4-2f2d3c2aa33a"
      },
      "outputs": [
        {
          "data": {
            "image/png": "[encoded data removed]",
            "text/plain": [
              "<Figure size 432x288 with 1 Axes>"
            ]
          },
          "metadata": {},
          "output_type": "display_data"
        }
      ],
      "source": [
        "alpha_arr = np.logspace(-3, 1, 40)\n",
        "test_err = []\n",
        "train_err = []\n",
        "for alpha in alpha_arr:\n",
        "    mlp_model = MLPClassifier(alpha = alpha, hidden_layer_sizes = (100, 100),\n",
        "                              solver = 'lbfgs', activation = 'logistic', random_state = 42)\n",
        "    mlp_model.fit(X_train, y_train)\n",
        "\n",
        "    y_train_pred = mlp_model.predict(X_train)\n",
        "    y_test_pred = mlp_model.predict(X_test)\n",
        "    train_err.append(np.mean(y_train != y_train_pred))\n",
        "    test_err.append(np.mean(y_test != y_test_pred))\n",
        "plt.semilogx(alpha_arr, train_err, 'b-o', label = 'test')\n",
        "plt.semilogx(alpha_arr, test_err, 'r-o', label = 'train')\n",
        "plt.xlim([np.max(alpha_arr), np.min(alpha_arr)])\n",
        "plt.title('Error vs. alpha')\n",
        "plt.xlabel('Alpha')\n",
        "plt.ylabel('Error')\n",
        "plt.legend()\n",
        "pass"
      ]
    },
    {
      "cell_type": "markdown",
      "metadata": {
        "id": "oedf5Hctg3kG"
      },
      "source": [
        "Минимальное значение ошибки:"
      ]
    },
    {
      "cell_type": "code",
      "execution_count": null,
      "metadata": {
        "id": "Wv4Ys5nFg3kH",
        "outputId": "f889f024-18e6-4bca-d39f-6da4c8762b16"
      },
      "outputs": [
        {
          "name": "stdout",
          "output_type": "stream",
          "text": [
            "0.2088824459673168 0.20811558561328006\n"
          ]
        }
      ],
      "source": [
        "min_train_err = np.min(train_err)\n",
        "min_test_err = np.min(test_err)\n",
        "print(min_train_err, min_test_err)"
      ]
    },
    {
      "cell_type": "markdown",
      "metadata": {
        "id": "s5rE3BKdg3kJ"
      },
      "source": [
        "При оптимальных значениях alpha:"
      ]
    },
    {
      "cell_type": "code",
      "execution_count": null,
      "metadata": {
        "id": "zSGRTfANg3kJ",
        "outputId": "35fc1cd7-51a7-42ca-a90a-ec713e03120b"
      },
      "outputs": [
        {
          "name": "stdout",
          "output_type": "stream",
          "text": [
            "4.923882631706737\n"
          ]
        }
      ],
      "source": [
        "alpha_opt = alpha_arr[test_err == min_test_err]\n",
        "print(alpha_opt[0])"
      ]
    },
    {
      "cell_type": "code",
      "execution_count": null,
      "metadata": {
        "id": "-9spvoT7g3kK"
      },
      "outputs": [],
      "source": [
        "alpha_opt = alpha_opt[0]"
      ]
    },
    {
      "cell_type": "markdown",
      "metadata": {
        "id": "8YbLuPW2g3kL"
      },
      "source": [
        "Посмотрим на классификатор с оптимальным параметром. Для этого повторим обучение и посмотрим на ошибку."
      ]
    },
    {
      "cell_type": "code",
      "execution_count": null,
      "metadata": {
        "id": "KiC708zMg3kM",
        "outputId": "15e315e1-330e-4603-8dd6-13fe43f6bd85"
      },
      "outputs": [
        {
          "name": "stdout",
          "output_type": "stream",
          "text": [
            "0.20967316816025303 0.20811558561328006\n"
          ]
        }
      ],
      "source": [
        "mlp_model = MLPClassifier(alpha = alpha_opt, hidden_layer_sizes = (100, 100),\n",
        "                          solver = 'lbfgs', activation = 'logistic', random_state = 42)\n",
        "mlp_model.fit(X_train, y_train)\n",
        "\n",
        "y_train_pred = mlp_model.predict(X_train)\n",
        "y_test_pred = mlp_model.predict(X_test)\n",
        "print(np.mean(y_train != y_train_pred), np.mean(y_test != y_test_pred))"
      ]
    },
    {
      "cell_type": "markdown",
      "metadata": {
        "id": "p6FRld0Ag3kN"
      },
      "source": [
        "Ошибка на тестовой выборке меньше ошибки на обучающей, так что переобучения нет."
      ]
    },
    {
      "cell_type": "markdown",
      "metadata": {
        "id": "A4-kwG_cg3kO"
      },
      "source": [
        "## Метрики качества"
      ]
    },
    {
      "cell_type": "markdown",
      "metadata": {
        "id": "2dNkBuFog3kO"
      },
      "source": [
        "Матрица рассогласования:"
      ]
    },
    {
      "cell_type": "code",
      "execution_count": null,
      "metadata": {
        "id": "66ULsKA9g3kP",
        "outputId": "edbba2a3-a7a2-491e-c89d-33131335efe7"
      },
      "outputs": [
        {
          "name": "stdout",
          "output_type": "stream",
          "text": [
            "[[   0    0    0    0    0]\n",
            " [   0    0    0    0    0]\n",
            " [   0    0    0    0    0]\n",
            " [  17   66  515 2576   79]\n",
            " [   0    0    0    0    0]]\n"
          ]
        }
      ],
      "source": [
        "from sklearn.metrics import confusion_matrix\n",
        "print(confusion_matrix(y_test_pred, y_test))"
      ]
    },
    {
      "cell_type": "markdown",
      "metadata": {
        "id": "EAmqs5jog3kT"
      },
      "source": [
        "Получается сеть всегда ставит рейтинг равный 4, и это верно примерно в 80% случаев."
      ]
    },
    {
      "cell_type": "markdown",
      "metadata": {
        "id": "40Fy64Vag3kU"
      },
      "source": [
        "Другие метрики:"
      ]
    },
    {
      "cell_type": "code",
      "execution_count": null,
      "metadata": {
        "id": "TL4B3PTPg3kV",
        "outputId": "5a2670fd-3f23-4b10-be70-a0a667bcd12a"
      },
      "outputs": [
        {
          "name": "stdout",
          "output_type": "stream",
          "text": [
            "             precision    recall  f1-score   support\n",
            "\n",
            "          1       0.00      0.00      0.00        17\n",
            "          2       0.00      0.00      0.00        66\n",
            "          3       0.00      0.00      0.00       515\n",
            "          4       0.79      1.00      0.88      2576\n",
            "          5       0.00      0.00      0.00        79\n",
            "\n",
            "avg / total       0.63      0.79      0.70      3253\n",
            "\n"
          ]
        },
        {
          "name": "stderr",
          "output_type": "stream",
          "text": [
            "/anaconda3/lib/python3.6/site-packages/sklearn/metrics/classification.py:1135: UndefinedMetricWarning: Precision and F-score are ill-defined and being set to 0.0 in labels with no predicted samples.\n",
            "  'precision', 'predicted', average, warn_for)\n"
          ]
        }
      ],
      "source": [
        "from sklearn.metrics import classification_report\n",
        "print(classification_report(y_test, y_test_pred))"
      ]
    },
    {
      "cell_type": "markdown",
      "metadata": {
        "id": "uW5A97w_g3kZ"
      },
      "source": [
        "\n",
        "Используем random forests, extremely random forests, adaboost, gradient boosted trees. Построим графики зависимости ошибки (на тестовой и обучающейся выборках, а также oob-ошибку) от количества используемых деревьев.\n"
      ]
    },
    {
      "cell_type": "markdown",
      "metadata": {
        "id": "dQHmtUzmg3ka"
      },
      "source": [
        "## Метод Random Forest"
      ]
    },
    {
      "cell_type": "code",
      "execution_count": null,
      "metadata": {
        "id": "l6RmPeKIg3kd",
        "outputId": "634cee36-d7b8-4baa-e13b-b01d91813d74"
      },
      "outputs": [
        {
          "name": "stdout",
          "output_type": "stream",
          "text": [
            "0.0027675276752767526 0.21826006762988012\n"
          ]
        }
      ],
      "source": [
        "from sklearn import ensemble\n",
        "rf = ensemble.RandomForestClassifier(n_estimators = 100)\n",
        "rf.fit(X_train, y_train)\n",
        "\n",
        "err_train = np.mean(y_train != rf.predict(X_train))\n",
        "err_test  = np.mean(y_test  != rf.predict(X_test))\n",
        "\n",
        "print(err_train, err_test)"
      ]
    },
    {
      "cell_type": "markdown",
      "metadata": {
        "id": "it43OXp4g3ke"
      },
      "source": [
        "Обычно случайный лес не переобучается, но тут явно ошибка на обучающей выборке значительно меньше ошибки на тестовой выборке, следовательно имеет место переобучение. Попробуем подобрать более удачное число деревьев.\n",
        "\n",
        "Построим зависимость числа ошибок на тестовой выборке и обучающей выборке в зависимости от числа деревьев. Так же построим OOB-ошибку."
      ]
    },
    {
      "cell_type": "code",
      "execution_count": null,
      "metadata": {
        "id": "OZTJAWqRg3ke",
        "outputId": "1a36d550-4cd6-4afa-a564-3f286e199a65"
      },
      "outputs": [
        {
          "data": {
            "image/png": "[encoded data removed]",
            "text/plain": [
              "<Figure size 432x288 with 1 Axes>"
            ]
          },
          "metadata": {},
          "output_type": "display_data"
        }
      ],
      "source": [
        "trees_arr = np.arange(50, 500, 10)\n",
        "test_err = []\n",
        "train_err = []\n",
        "oob_err = []\n",
        "for trees in trees_arr:\n",
        "    rf = ensemble.RandomForestClassifier(bootstrap=True, n_estimators = trees, oob_score=True)\n",
        "    rf.fit(X_train, y_train)\n",
        "    train_err.append(np.mean(y_train != rf.predict(X_train)))\n",
        "    test_err.append(np.mean(y_test  != rf.predict(X_test)))\n",
        "    oob_err.append(1 - rf.oob_score_)\n",
        "\n",
        "plt.plot(trees_arr, train_err, 'b-o', label = 'train')\n",
        "plt.plot(trees_arr, test_err, 'r-o', label = 'test')\n",
        "plt.xlim([np.max(trees_arr), np.min(trees_arr)])\n",
        "plt.title('Error vs. Trees')\n",
        "plt.xlabel('Trees')\n",
        "plt.ylabel('Error')\n",
        "plt.legend()\n",
        "pass"
      ]
    },
    {
      "cell_type": "code",
      "execution_count": null,
      "metadata": {
        "id": "KJ-f0reRg3kf",
        "outputId": "f1519e92-56b6-423f-ec67-5ac5d5c1636d"
      },
      "outputs": [
        {
          "data": {
            "image/png": "[encoded data removed]",
            "text/plain": [
              "<Figure size 432x288 with 1 Axes>"
            ]
          },
          "metadata": {},
          "output_type": "display_data"
        }
      ],
      "source": [
        "plt.plot(trees_arr, test_err, 'r-o', label = 'test')\n",
        "plt.plot(trees_arr, oob_err, 'g-o', label = 'oob')\n",
        "plt.xlabel('Trees')\n",
        "plt.ylabel('Error')\n",
        "plt.title('Error vs. Trees')\n",
        "plt.legend()\n",
        "pass"
      ]
    },
    {
      "cell_type": "markdown",
      "metadata": {
        "id": "t91Tg8JBg3kh"
      },
      "source": [
        "Подбор оптимального числа деревьев не дал результата, переобучение все равно присутствует при любом числе деревьев.\n",
        "\n",
        "Посмотрим на минимальную ошибку:"
      ]
    },
    {
      "cell_type": "code",
      "execution_count": null,
      "metadata": {
        "id": "dGSmgbJsg3ki",
        "outputId": "90870e54-7cae-4ac5-a083-36871aac8d9d"
      },
      "outputs": [
        {
          "name": "stdout",
          "output_type": "stream",
          "text": [
            "0.0027675276752767526 0.21487857362434676\n"
          ]
        }
      ],
      "source": [
        "min_train_err = np.min(train_err)\n",
        "min_test_err = np.min(test_err)\n",
        "print(min_train_err, min_test_err)"
      ]
    },
    {
      "cell_type": "markdown",
      "metadata": {
        "id": "r19YLu7pg3ki"
      },
      "source": [
        "Число деревьев, при котором достигается минимальная ошибка:"
      ]
    },
    {
      "cell_type": "code",
      "execution_count": null,
      "metadata": {
        "id": "l-0xNZDng3kj",
        "outputId": "4cfbe4cd-ebdf-4e67-9756-be6fdcf83375"
      },
      "outputs": [
        {
          "name": "stdout",
          "output_type": "stream",
          "text": [
            "250\n"
          ]
        }
      ],
      "source": [
        "trees_opt = trees_arr[test_err == min_test_err]\n",
        "print(trees_opt[0])"
      ]
    },
    {
      "cell_type": "markdown",
      "metadata": {
        "id": "AxTqZwmdg3kk"
      },
      "source": [
        "# Метод Extremely Random Forest"
      ]
    },
    {
      "cell_type": "code",
      "execution_count": null,
      "metadata": {
        "id": "3gP8ERoBg3kk",
        "outputId": "64d29d32-c5bb-4c2a-9637-a942dfac056e"
      },
      "outputs": [
        {
          "name": "stdout",
          "output_type": "stream",
          "text": [
            "0.002635740643120717 0.25053796495542574\n"
          ]
        }
      ],
      "source": [
        "from sklearn import ensemble\n",
        "ert = ensemble.ExtraTreesClassifier(n_estimators = 100)\n",
        "ert.fit(X_train, y_train)\n",
        "\n",
        "err_train = np.mean(y_train != ert.predict(X_train))\n",
        "err_test  = np.mean(y_test  != ert.predict(X_test))\n",
        "\n",
        "print(err_train, err_test)"
      ]
    },
    {
      "cell_type": "markdown",
      "metadata": {
        "id": "ZJhah0keg3kl"
      },
      "source": [
        "Снова видим переобучение.\n",
        "\n",
        "Построим графики ошибок на тестовой выборке, обучающей выборке и OOB-ошибку в зависимости от числа деревьев."
      ]
    },
    {
      "cell_type": "code",
      "execution_count": null,
      "metadata": {
        "id": "Rj41vNAKg3kl",
        "outputId": "96d6af61-4f98-4421-b5e7-8cf9f3e04502"
      },
      "outputs": [
        {
          "data": {
            "image/png": "[encoded data removed]",
            "text/plain": [
              "<Figure size 432x288 with 1 Axes>"
            ]
          },
          "metadata": {},
          "output_type": "display_data"
        }
      ],
      "source": [
        "trees_arr = np.arange(50, 500, 10)\n",
        "test_err = []\n",
        "train_err = []\n",
        "oob_err = []\n",
        "for trees in trees_arr:\n",
        "    ert = ensemble.ExtraTreesClassifier(n_estimators = trees, oob_score=True, bootstrap=True)\n",
        "    ert.fit(X_train, y_train)\n",
        "    train_err.append(np.mean(y_train != ert.predict(X_train)))\n",
        "    test_err.append(np.mean(y_test  != ert.predict(X_test)))\n",
        "    oob_err.append(1 - ert.oob_score_)\n",
        "plt.plot(trees_arr, train_err, 'b-o', label = 'train')\n",
        "plt.plot(trees_arr, test_err, 'r-o', label = 'test')\n",
        "plt.xlim([np.max(trees_arr), np.min(trees_arr)])\n",
        "plt.title('Error vs. Trees')\n",
        "plt.xlabel('Trees')\n",
        "plt.ylabel('Error')\n",
        "plt.legend()\n",
        "pass"
      ]
    },
    {
      "cell_type": "code",
      "execution_count": null,
      "metadata": {
        "id": "SyIQUNaGg3km",
        "outputId": "fc723d51-ae2d-4e23-9562-294f0bc2af23"
      },
      "outputs": [
        {
          "data": {
            "image/png": "[encoded data removed]",
            "text/plain": [
              "<Figure size 432x288 with 1 Axes>"
            ]
          },
          "metadata": {},
          "output_type": "display_data"
        }
      ],
      "source": [
        "plt.plot(trees_arr, test_err, 'r-o', label = 'test')\n",
        "plt.plot(trees_arr, oob_err, 'g-o', label = 'oob')\n",
        "plt.xlabel('Trees')\n",
        "plt.ylabel('Error')\n",
        "plt.title('Error vs. Trees')\n",
        "plt.legend()\n",
        "pass"
      ]
    },
    {
      "cell_type": "markdown",
      "metadata": {
        "id": "ZXPVDlLbg3kn"
      },
      "source": [
        "В данном метода снова не удалось подбором числа деревьев улучшить результат. При любом числе деревьев от 50 до 500 наблюдается сильное переобучение.\n",
        "\n",
        "Посмотрим каких результатов удалось достигнуть:"
      ]
    },
    {
      "cell_type": "code",
      "execution_count": null,
      "metadata": {
        "id": "EWNCSpXTg3ko",
        "outputId": "8d979d3e-6e73-4c94-f65d-1db2529cbb2a"
      },
      "outputs": [
        {
          "name": "stdout",
          "output_type": "stream",
          "text": [
            "0.002635740643120717 0.22287119581924378\n"
          ]
        }
      ],
      "source": [
        "min_train_err = np.min(train_err)\n",
        "min_test_err = np.min(test_err)\n",
        "print(min_train_err, min_test_err)"
      ]
    },
    {
      "cell_type": "markdown",
      "metadata": {
        "id": "V9f1guDyg3kp"
      },
      "source": [
        "При этом оптимальное число деревьев:"
      ]
    },
    {
      "cell_type": "code",
      "execution_count": null,
      "metadata": {
        "id": "MBxz7aGWg3kp",
        "outputId": "14c75584-ea8d-47b5-e0a9-63dbda25ec1f"
      },
      "outputs": [
        {
          "name": "stdout",
          "output_type": "stream",
          "text": [
            "260\n"
          ]
        }
      ],
      "source": [
        "trees_opt = trees_arr[test_err == min_test_err]\n",
        "print(trees_opt[0])"
      ]
    },
    {
      "cell_type": "markdown",
      "metadata": {
        "id": "HjTI1jMug3kq"
      },
      "source": [
        "# Метод AdaBoost"
      ]
    },
    {
      "cell_type": "code",
      "execution_count": null,
      "metadata": {
        "id": "aTxzClKsg3kr",
        "outputId": "156ce85b-a5ae-41e4-afce-2bea0e7dad0f"
      },
      "outputs": [
        {
          "name": "stdout",
          "output_type": "stream",
          "text": [
            "0.39457037427517133 0.40823854903166307\n"
          ]
        }
      ],
      "source": [
        "ab = ensemble.AdaBoostClassifier(n_estimators = 100)\n",
        "ab.fit(X_train, y_train)\n",
        "\n",
        "err_train = np.mean(y_train != ab.predict(X_train))\n",
        "err_test  = np.mean(y_test  != ab.predict(X_test))\n",
        "\n",
        "print(err_train, err_test)"
      ]
    },
    {
      "cell_type": "markdown",
      "metadata": {
        "id": "qLnn2IJGg3kr"
      },
      "source": [
        " Ошибки имеют достаточно большое значение, но близки. Попробуем это исправить.\n",
        "\n",
        " Посмотрим на графики ошибок на обучающей и тестовой выборке в зависимости от числа деревьев."
      ]
    },
    {
      "cell_type": "code",
      "execution_count": null,
      "metadata": {
        "id": "gA0GNHeqg3ks",
        "outputId": "3aab7bf7-fd41-481f-e609-0d3785e114e8"
      },
      "outputs": [
        {
          "data": {
            "image/png": "[encoded data removed]",
            "text/plain": [
              "<Figure size 432x288 with 1 Axes>"
            ]
          },
          "metadata": {},
          "output_type": "display_data"
        }
      ],
      "source": [
        "trees_arr = np.arange(5, 150, 5)\n",
        "test_err = []\n",
        "train_err = []\n",
        "\n",
        "for trees in trees_arr:\n",
        "    ab = ensemble.AdaBoostClassifier(n_estimators = trees)\n",
        "    ab.fit(X_train, y_train)\n",
        "    train_err.append(np.mean(y_train != ab.predict(X_train)))\n",
        "    test_err.append(np.mean(y_test  != ab.predict(X_test)))\n",
        "\n",
        "plt.plot(trees_arr, train_err, 'b-o', label = 'train')\n",
        "plt.plot(trees_arr, test_err, 'r-o', label = 'test')\n",
        "plt.xlim([np.max(trees_arr), np.min(trees_arr)])\n",
        "plt.title('Error vs. Trees')\n",
        "plt.xlabel('Trees')\n",
        "plt.ylabel('Error')\n",
        "plt.legend()\n",
        "pass"
      ]
    },
    {
      "cell_type": "markdown",
      "metadata": {
        "id": "YR1JUMN7g3ks"
      },
      "source": [
        "Похоже в этом случае удастся избежать переобучения и решить задачу с хорошей точность.\n",
        "\n",
        "Посмотрим на минимальную ошибку:"
      ]
    },
    {
      "cell_type": "code",
      "execution_count": null,
      "metadata": {
        "id": "DUdjQDl3g3kt",
        "outputId": "6aff22c0-7d02-4b83-d12c-6890e909090d"
      },
      "outputs": [
        {
          "name": "stdout",
          "output_type": "stream",
          "text": [
            "0.21020031628887717 0.20811558561328006\n"
          ]
        }
      ],
      "source": [
        "min_train_err = np.min(train_err)\n",
        "min_test_err = np.min(test_err)\n",
        "print(min_train_err, min_test_err)"
      ]
    },
    {
      "cell_type": "markdown",
      "metadata": {
        "id": "i0zD0yGzg3kt"
      },
      "source": [
        "Переобучения нет. Подтверждается свойство данного алгоритма менее поддаваться переобучению.\n",
        "\n",
        "Оптимальное число деревьев:"
      ]
    },
    {
      "cell_type": "code",
      "execution_count": null,
      "metadata": {
        "id": "Setv1yN7g3ku",
        "outputId": "4665389a-836b-49a5-c0c7-8daf219cfc61"
      },
      "outputs": [
        {
          "name": "stdout",
          "output_type": "stream",
          "text": [
            "5\n"
          ]
        }
      ],
      "source": [
        "trees_opt = trees_arr[test_err == min_test_err]\n",
        "print(trees_opt[0])"
      ]
    },
    {
      "cell_type": "markdown",
      "metadata": {
        "id": "hWoip8jyg3ku"
      },
      "source": [
        "# Gradient boosted trees"
      ]
    },
    {
      "cell_type": "code",
      "execution_count": null,
      "metadata": {
        "id": "YHLkKU_2g3kv",
        "outputId": "944516b7-63a2-4cc7-a4ac-37b024bbed68"
      },
      "outputs": [
        {
          "name": "stdout",
          "output_type": "stream",
          "text": [
            "0.1908276225619399 0.20965262834306794\n"
          ]
        }
      ],
      "source": [
        "gbt = ensemble.GradientBoostingClassifier(n_estimators = 100)\n",
        "gbt.fit(X_train, y_train)\n",
        "\n",
        "err_train = np.mean(y_train != gbt.predict(X_train))\n",
        "err_test  = np.mean(y_test  != gbt.predict(X_test))\n",
        "\n",
        "print(err_train, err_test)"
      ]
    },
    {
      "cell_type": "markdown",
      "metadata": {
        "id": "EJFaRVjJg3kv"
      },
      "source": [
        "Достаточно хороший результат, есть небольшое переобучение, попробуем это исправить.\n",
        "\n",
        "Построим графики для ошибок на тестовой и обучающей выборках в зависимости от числа деревьев:"
      ]
    },
    {
      "cell_type": "code",
      "execution_count": null,
      "metadata": {
        "id": "XAE8AU1gg3kv",
        "outputId": "2bffe498-c865-4969-b7da-f2dfb95700f1"
      },
      "outputs": [
        {
          "data": {
            "image/png": "[encoded data removed]",
            "text/plain": [
              "<Figure size 432x288 with 1 Axes>"
            ]
          },
          "metadata": {},
          "output_type": "display_data"
        }
      ],
      "source": [
        "trees_arr = np.arange(5, 100, 5)\n",
        "test_err = []\n",
        "train_err = []\n",
        "for trees in trees_arr:\n",
        "    gbt = ensemble.GradientBoostingClassifier(n_estimators = trees)\n",
        "    gbt.fit(X_train, y_train)\n",
        "    train_err.append(np.mean(y_train != gbt.predict(X_train)))\n",
        "    test_err.append(np.mean(y_test  != gbt.predict(X_test)))\n",
        "plt.plot(trees_arr, train_err, 'b-o', label = 'train')\n",
        "plt.plot(trees_arr, test_err, 'r-o', label = 'test')\n",
        "plt.xlim([np.max(trees_arr), np.min(trees_arr)])\n",
        "plt.title('Error vs. Trees')\n",
        "plt.xlabel('trees')\n",
        "plt.ylabel('error')\n",
        "plt.legend()\n",
        "pass"
      ]
    },
    {
      "cell_type": "markdown",
      "metadata": {
        "id": "l_SomE0jg3kw"
      },
      "source": [
        "С ростом числа деревьев ошибка только растёт. Можно заметить, что при количестве деревьев больше 30 будет переобучение. То есть с ростом сложности модели возникает переобучение.\n",
        "\n",
        "Посмотрим на минимальную ошибку:"
      ]
    },
    {
      "cell_type": "code",
      "execution_count": null,
      "metadata": {
        "id": "MD55q1bxg3kw",
        "outputId": "7f1ba591-33b9-4aaa-a735-42e7424060c9"
      },
      "outputs": [
        {
          "name": "stdout",
          "output_type": "stream",
          "text": [
            "0.19214549288350027 0.20811558561328006\n"
          ]
        }
      ],
      "source": [
        "min_train_err = np.min(train_err)\n",
        "min_test_err = np.min(test_err)\n",
        "print(min_train_err, min_test_err)"
      ]
    },
    {
      "cell_type": "markdown",
      "metadata": {
        "id": "O56LKRDyg3kx"
      },
      "source": [
        "Ошибка стала меньше, но присутствует небольшое переобучение.\n",
        "\n",
        "Оптимальное число деревьев:"
      ]
    },
    {
      "cell_type": "code",
      "execution_count": null,
      "metadata": {
        "id": "1Ca3In3Ng3kx",
        "outputId": "0eb04cac-6aa7-4bd0-e5df-26824839a8a2"
      },
      "outputs": [
        {
          "name": "stdout",
          "output_type": "stream",
          "text": [
            "5\n"
          ]
        }
      ],
      "source": [
        "trees_opt = trees_arr[test_err == min_test_err]\n",
        "print(trees_opt[0])"
      ]
    },
    {
      "cell_type": "markdown",
      "metadata": {
        "id": "G0pjquPsg3kx"
      },
      "source": [
        "Попробуем немного интерпретировать результат классификации."
      ]
    },
    {
      "cell_type": "code",
      "execution_count": null,
      "metadata": {
        "id": "a_9HkRBFg3ky",
        "outputId": "711b564c-fd8c-451c-c561-7c73cfe1ace8"
      },
      "outputs": [
        {
          "name": "stdout",
          "output_type": "stream",
          "text": [
            "Feature ranking:\n",
            " 1. feature 'Reviews' (0.367835)\n",
            " 2. feature ' Size' (0.167138)\n",
            " 3. feature 'Installs' (0.141045)\n",
            " 4. feature 'Price' (0.046616)\n",
            " 5. feature 'Category_FINANCE' (0.026497)\n",
            " 6. feature 'Category_COMICS' (0.016270)\n",
            " 7. feature 'Category_FAMILY' (0.016146)\n",
            " 8. feature 'Category_GAME' (0.015830)\n",
            " 9. feature 'Category_LIFESTYLE' (0.015157)\n",
            "10. feature 'Category_HEALTH_AND_FITNESS' (0.014781)\n"
          ]
        }
      ],
      "source": [
        "importances = gbt.feature_importances_\n",
        "indices = np.argsort(importances)[::-1]\n",
        "\n",
        "print(\"Feature ranking:\")\n",
        "\n",
        "for f in range(min(d, 10)):\n",
        "    print(\"%2d. feature '%5s' (%f)\" % (f + 1, feature_names[indices[f]], importances[indices[f]]))"
      ]
    },
    {
      "cell_type": "code",
      "execution_count": null,
      "metadata": {
        "id": "j2CdhJkXg3ky",
        "outputId": "a068f02d-6edd-4bb8-9dc9-8a6bd0f533ca"
      },
      "outputs": [
        {
          "data": {
            "text/plain": [
              "(-1, 4)"
            ]
          },
          "execution_count": 69,
          "metadata": {},
          "output_type": "execute_result"
        },
        {
          "data": {
            "image/png": "[encoded data removed]",
            "text/plain": [
              "<Figure size 432x288 with 1 Axes>"
            ]
          },
          "metadata": {},
          "output_type": "display_data"
        }
      ],
      "source": [
        "d_first = min(d, 4)\n",
        "plt.title(\"Feature importances\")\n",
        "plt.bar(range(d_first), importances[indices[:d_first]], align = 'center', color = 'r')\n",
        "plt.xticks(range(d_first), feature_names[indices[:d_first]], rotation = 90)\n",
        "plt.xlim([-1, d_first])"
      ]
    },
    {
      "cell_type": "markdown",
      "metadata": {
        "id": "HH0rZ_7Ag3kz"
      },
      "source": [
        "Можно сделать вывод, что рейтинг приложения по нашему набору данных определяется в основном по числу просмотров."
      ]
    }
  ],
  "metadata": {
    "kernelspec": {
      "display_name": "Python 3 (ipykernel)",
      "language": "python",
      "name": "python3"
    },
    "language_info": {
      "codemirror_mode": {
        "name": "ipython",
        "version": 3
      },
      "file_extension": ".py",
      "mimetype": "text/x-python",
      "name": "python",
      "nbconvert_exporter": "python",
      "pygments_lexer": "ipython3",
      "version": "3.9.15"
    },
    "colab": {
      "provenance": []
    }
  },
  "nbformat": 4,
  "nbformat_minor": 0
}